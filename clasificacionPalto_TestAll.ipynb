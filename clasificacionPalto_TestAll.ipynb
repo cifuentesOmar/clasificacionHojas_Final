{
 "cells": [
  {
   "cell_type": "markdown",
   "id": "56c222ef-766e-4051-a8f3-31ec2db3239e",
   "metadata": {
    "tags": []
   },
   "source": [
    "## 1. Se importan las librerias"
   ]
  },
  {
   "cell_type": "code",
   "execution_count": 1,
   "id": "4264722a-1709-4115-8a87-3d15b0716f9c",
   "metadata": {
    "tags": []
   },
   "outputs": [],
   "source": [
    "import numpy as np\n",
    "import os\n",
    "import re\n",
    "import matplotlib.pyplot as plt\n",
    "%matplotlib inline\n",
    "from sklearn.model_selection import train_test_split\n",
    "from sklearn.metrics import classification_report\n",
    "import keras\n",
    "from keras.utils import to_categorical\n",
    "from keras.models import Sequential,Model\n",
    "from keras.layers import Dense, Dropout, Flatten, Activation\n",
    "from keras.layers import Conv2D, MaxPooling2D\n",
    "from tensorflow.keras.layers import BatchNormalization\n",
    "from keras import backend as K\n",
    "from sklearn.metrics import confusion_matrix, ConfusionMatrixDisplay, roc_curve, auc, plot_confusion_matrix\n",
    "# Agregadas\n",
    "from sklearn.datasets import make_classification\n",
    "from sklearn.svm import SVC\n",
    "import tensorflow as tf\n",
    "from tensorflow.keras.utils import img_to_array\n",
    "import cv2\n",
    "from sklearn.preprocessing import LabelBinarizer\n",
    "import pickle\n",
    "from focal_loss import BinaryFocalLoss\n",
    "from sklearn.metrics import precision_score, recall_score, accuracy_score, f1_score\n",
    "import pandas as pd\n",
    "\n",
    "from tensorflow.keras.preprocessing import image\n",
    "\n",
    "HEIGHT=128\n",
    "WIDTH=128\n",
    "DEFAULT_IMAGE_SIZE = tuple((WIDTH, HEIGHT))"
   ]
  },
  {
   "cell_type": "code",
   "execution_count": 2,
   "id": "8ffa89c0-5f56-49f9-a704-d82e6a7a35b0",
   "metadata": {},
   "outputs": [],
   "source": [
    "def show_metrics(y_pred,th):\n",
    "    cm = confusion_matrix(test_Y, y_pred.argmax(axis=1)>th)\n",
    "    #print(cm)\n",
    "    disp = ConfusionMatrixDisplay(confusion_matrix=cm, display_labels=[\"No Sana\", \"Sana\"])\n",
    "    disp.plot(cmap=plt.cm.Greens)\n",
    "    plt.title('Matriz de confusión del clasificador')\n",
    "    plt.xlabel('Valores predichos')\n",
    "    plt.ylabel('Valores Verdaderos')\n",
    "    plt.show()\n",
    "    d = classification_report(test_Y, y_pred.argmax(axis=1) > th,output_dict=True)\n",
    "    display(pd.DataFrame.from_dict(d))\n",
    "    return y_pred, d"
   ]
  },
  {
   "cell_type": "markdown",
   "id": "30fc3f8f-0410-4d84-94f5-0028f665b759",
   "metadata": {},
   "source": [
    "## 2. Prueba modelo dataset aumentadas\n",
    "Cargar modelo y valores del dataset original"
   ]
  },
  {
   "cell_type": "code",
   "execution_count": 3,
   "id": "1584add9-7d1d-4cf9-a60c-25a634529a04",
   "metadata": {},
   "outputs": [
    {
     "name": "stderr",
     "output_type": "stream",
     "text": [
      "2022-12-17 09:11:48.998813: I tensorflow/core/platform/cpu_feature_guard.cc:193] This TensorFlow binary is optimized with oneAPI Deep Neural Network Library (oneDNN) to use the following CPU instructions in performance-critical operations:  SSE4.1 SSE4.2\n",
      "To enable them in other operations, rebuild TensorFlow with the appropriate compiler flags.\n"
     ]
    }
   ],
   "source": [
    "model = tf.keras.models.load_model('modelo_aumentadas.h5', compile=False)\n",
    "\n",
    "test_X = np.load(\"test_X_originales.npy\")\n",
    "test_Y = np.load(\"test_Y_originales.npy\")\n",
    "test_Y_one_hot = np.load(\"test_Y_one_hot_originales.npy\")"
   ]
  },
  {
   "cell_type": "markdown",
   "id": "e6903434-7cbc-42be-925f-8aba05638315",
   "metadata": {},
   "source": [
    "## 2.1 Análisis de métricas de rendimiento"
   ]
  },
  {
   "cell_type": "code",
   "execution_count": 4,
   "id": "5ea9b956-71c0-403d-a7d0-941eefde452d",
   "metadata": {},
   "outputs": [
    {
     "name": "stdout",
     "output_type": "stream",
     "text": [
      "1/1 [==============================] - 0s 285ms/step\n"
     ]
    },
    {
     "data": {
      "text/plain": [
       "1.0"
      ]
     },
     "execution_count": 4,
     "metadata": {},
     "output_type": "execute_result"
    }
   ],
   "source": [
    "y_pred = model.predict(test_X)\n",
    "y_pred.shape\n",
    "test_Y_one_hot.shape\n",
    "y_pred[0,:].sum()"
   ]
  },
  {
   "cell_type": "markdown",
   "id": "b1361a77-1b39-46cf-99a4-01ea9e2facd0",
   "metadata": {},
   "source": [
    "## 2.2 Crear matriz de confusión"
   ]
  },
  {
   "cell_type": "code",
   "execution_count": 16,
   "id": "38e9d26c-9bfe-410e-a0b7-b9553ccc1547",
   "metadata": {},
   "outputs": [
    {
     "data": {
      "image/png": "[encoded data removed]",
      "text/plain": [
       "<Figure size 432x288 with 2 Axes>"
      ]
     },
     "metadata": {
      "needs_background": "light"
     },
     "output_type": "display_data"
    },
    {
     "data": {
      "text/html": [
       "<div>\n",
       "<style scoped>\n",
       "    .dataframe tbody tr th:only-of-type {\n",
       "        vertical-align: middle;\n",
       "    }\n",
       "\n",
       "    .dataframe tbody tr th {\n",
       "        vertical-align: top;\n",
       "    }\n",
       "\n",
       "    .dataframe thead th {\n",
       "        text-align: right;\n",
       "    }\n",
       "</style>\n",
       "<table border=\"1\" class=\"dataframe\">\n",
       "  <thead>\n",
       "    <tr style=\"text-align: right;\">\n",
       "      <th></th>\n",
       "      <th>0</th>\n",
       "      <th>1</th>\n",
       "      <th>accuracy</th>\n",
       "      <th>macro avg</th>\n",
       "      <th>weighted avg</th>\n",
       "    </tr>\n",
       "  </thead>\n",
       "  <tbody>\n",
       "    <tr>\n",
       "      <th>precision</th>\n",
       "      <td>1.000000</td>\n",
       "      <td>0.933333</td>\n",
       "      <td>0.944444</td>\n",
       "      <td>0.966667</td>\n",
       "      <td>0.948148</td>\n",
       "    </tr>\n",
       "    <tr>\n",
       "      <th>recall</th>\n",
       "      <td>0.750000</td>\n",
       "      <td>1.000000</td>\n",
       "      <td>0.944444</td>\n",
       "      <td>0.875000</td>\n",
       "      <td>0.944444</td>\n",
       "    </tr>\n",
       "    <tr>\n",
       "      <th>f1-score</th>\n",
       "      <td>0.857143</td>\n",
       "      <td>0.965517</td>\n",
       "      <td>0.944444</td>\n",
       "      <td>0.911330</td>\n",
       "      <td>0.941434</td>\n",
       "    </tr>\n",
       "    <tr>\n",
       "      <th>support</th>\n",
       "      <td>4.000000</td>\n",
       "      <td>14.000000</td>\n",
       "      <td>0.944444</td>\n",
       "      <td>18.000000</td>\n",
       "      <td>18.000000</td>\n",
       "    </tr>\n",
       "  </tbody>\n",
       "</table>\n",
       "</div>"
      ],
      "text/plain": [
       "                  0          1  accuracy  macro avg  weighted avg\n",
       "precision  1.000000   0.933333  0.944444   0.966667      0.948148\n",
       "recall     0.750000   1.000000  0.944444   0.875000      0.944444\n",
       "f1-score   0.857143   0.965517  0.944444   0.911330      0.941434\n",
       "support    4.000000  14.000000  0.944444  18.000000     18.000000"
      ]
     },
     "metadata": {},
     "output_type": "display_data"
    }
   ],
   "source": [
    "a, mi_dicc = show_metrics(y_pred,.5)\n",
    "\n",
    "#Crear tabla para latex\n",
    "\n",
    "#print(pd.DataFrame(mi_dicc).to_latex(index=False))"
   ]
  },
  {
   "cell_type": "markdown",
   "id": "7b5d1e15-c0a0-4b54-9f62-c0959f10d9d7",
   "metadata": {},
   "source": [
    "## 2.3 Probar el modelo con una Hoja"
   ]
  },
  {
   "cell_type": "code",
   "execution_count": 6,
   "id": "71254c2e-e7f8-4d6f-9259-06d95eca7f0f",
   "metadata": {},
   "outputs": [
    {
     "name": "stdout",
     "output_type": "stream",
     "text": [
      "1/1 [==============================] - 0s 22ms/step\n",
      "[[0. 1.]]\n",
      "Sana\n"
     ]
    }
   ],
   "source": [
    "#imgpath='Fotos/sana/augmented_49_622492.jpeg'\n",
    "img=image.load_img(\"FotosCombinadas/Sana/augmented_35_3786006.jpeg\",target_size=DEFAULT_IMAGE_SIZE)\n",
    "\n",
    "x=image.img_to_array(img)\n",
    "x=np.expand_dims(x,axis=0)\n",
    "images=np.vstack([x])\n",
    "pred=model.predict(images,batch_size=16)\n",
    "print(pred)\n",
    "if pred[0][0]>0.5:\n",
    "    category=\"No Sana\"\n",
    "elif pred[0][1]>0.5:\n",
    "    category=\"Sana\"\n",
    "    \n",
    "print(category)"
   ]
  },
  {
   "cell_type": "markdown",
   "id": "32ca4e1d-7ffc-4190-9ed1-49ae5e11545f",
   "metadata": {},
   "source": [
    "## 3. Prueba modelo dataset combinadas\n",
    "Cargar modelo y valores del dataset original"
   ]
  },
  {
   "cell_type": "code",
   "execution_count": 7,
   "id": "2b4c0b31-7dd5-4e86-8835-315de9d96b2f",
   "metadata": {},
   "outputs": [],
   "source": [
    "model = tf.keras.models.load_model('modelo_combinadas.h5', compile=False)\n",
    "\n",
    "test_X = np.load(\"test_X_originales.npy\")\n",
    "test_Y = np.load(\"test_Y_originales.npy\")\n",
    "test_Y_one_hot = np.load(\"test_Y_one_hot_originales.npy\")"
   ]
  },
  {
   "cell_type": "markdown",
   "id": "85b31870-61b6-42ba-bf5f-521d1a58e4ad",
   "metadata": {},
   "source": [
    "## 3.1 Análisis de métricas de rendimiento"
   ]
  },
  {
   "cell_type": "code",
   "execution_count": 8,
   "id": "3cc78d10-2566-4b8b-bfa6-1406c0ecfc25",
   "metadata": {},
   "outputs": [
    {
     "name": "stdout",
     "output_type": "stream",
     "text": [
      "1/1 [==============================] - 0s 131ms/step\n"
     ]
    },
    {
     "data": {
      "text/plain": [
       "0.99999994"
      ]
     },
     "execution_count": 8,
     "metadata": {},
     "output_type": "execute_result"
    }
   ],
   "source": [
    "y_pred = model.predict(test_X)\n",
    "y_pred.shape\n",
    "test_Y_one_hot.shape\n",
    "y_pred[0,:].sum()"
   ]
  },
  {
   "cell_type": "markdown",
   "id": "cd966a25-f12a-4bb4-b201-0e3ea7e4109a",
   "metadata": {},
   "source": [
    "## 3.2 Crear matriz de confusión"
   ]
  },
  {
   "cell_type": "code",
   "execution_count": 9,
   "id": "3a5a261c-761b-45c0-a8b0-2a2f7e618c5a",
   "metadata": {},
   "outputs": [
    {
     "data": {
      "image/png": "[encoded data removed]",
      "text/plain": [
       "<Figure size 432x288 with 2 Axes>"
      ]
     },
     "metadata": {
      "needs_background": "light"
     },
     "output_type": "display_data"
    },
    {
     "data": {
      "text/html": [
       "<div>\n",
       "<style scoped>\n",
       "    .dataframe tbody tr th:only-of-type {\n",
       "        vertical-align: middle;\n",
       "    }\n",
       "\n",
       "    .dataframe tbody tr th {\n",
       "        vertical-align: top;\n",
       "    }\n",
       "\n",
       "    .dataframe thead th {\n",
       "        text-align: right;\n",
       "    }\n",
       "</style>\n",
       "<table border=\"1\" class=\"dataframe\">\n",
       "  <thead>\n",
       "    <tr style=\"text-align: right;\">\n",
       "      <th></th>\n",
       "      <th>0</th>\n",
       "      <th>1</th>\n",
       "      <th>accuracy</th>\n",
       "      <th>macro avg</th>\n",
       "      <th>weighted avg</th>\n",
       "    </tr>\n",
       "  </thead>\n",
       "  <tbody>\n",
       "    <tr>\n",
       "      <th>precision</th>\n",
       "      <td>1.0</td>\n",
       "      <td>1.0</td>\n",
       "      <td>1.0</td>\n",
       "      <td>1.0</td>\n",
       "      <td>1.0</td>\n",
       "    </tr>\n",
       "    <tr>\n",
       "      <th>recall</th>\n",
       "      <td>1.0</td>\n",
       "      <td>1.0</td>\n",
       "      <td>1.0</td>\n",
       "      <td>1.0</td>\n",
       "      <td>1.0</td>\n",
       "    </tr>\n",
       "    <tr>\n",
       "      <th>f1-score</th>\n",
       "      <td>1.0</td>\n",
       "      <td>1.0</td>\n",
       "      <td>1.0</td>\n",
       "      <td>1.0</td>\n",
       "      <td>1.0</td>\n",
       "    </tr>\n",
       "    <tr>\n",
       "      <th>support</th>\n",
       "      <td>4.0</td>\n",
       "      <td>14.0</td>\n",
       "      <td>1.0</td>\n",
       "      <td>18.0</td>\n",
       "      <td>18.0</td>\n",
       "    </tr>\n",
       "  </tbody>\n",
       "</table>\n",
       "</div>"
      ],
      "text/plain": [
       "             0     1  accuracy  macro avg  weighted avg\n",
       "precision  1.0   1.0       1.0        1.0           1.0\n",
       "recall     1.0   1.0       1.0        1.0           1.0\n",
       "f1-score   1.0   1.0       1.0        1.0           1.0\n",
       "support    4.0  14.0       1.0       18.0          18.0"
      ]
     },
     "metadata": {},
     "output_type": "display_data"
    }
   ],
   "source": [
    "a, mi_dicc = show_metrics(y_pred,.5)\n",
    "\n",
    "#Crear tabla para latex\n",
    "\n",
    "#print(pd.DataFrame(mi_dicc).to_latex(index=False))"
   ]
  },
  {
   "cell_type": "markdown",
   "id": "3d38280a-56e8-4fb5-994d-5b10228fdf54",
   "metadata": {},
   "source": [
    "## 3.3 Probar el modelo con una Hoja"
   ]
  },
  {
   "cell_type": "code",
   "execution_count": 10,
   "id": "120bb2bc-ab82-4c77-b8fb-3203ec0cd98d",
   "metadata": {},
   "outputs": [
    {
     "name": "stdout",
     "output_type": "stream",
     "text": [
      "1/1 [==============================] - 0s 35ms/step\n",
      "[[0. 1.]]\n",
      "Sana\n"
     ]
    }
   ],
   "source": [
    "#imgpath='Fotos/sana/augmented_49_622492.jpeg'\n",
    "img=image.load_img(\"FotosCombinadas/Sana/augmented_35_3786006.jpeg\",target_size=DEFAULT_IMAGE_SIZE)\n",
    "\n",
    "x=image.img_to_array(img)\n",
    "x=np.expand_dims(x,axis=0)\n",
    "images=np.vstack([x])\n",
    "pred=model.predict(images,batch_size=16)\n",
    "print(pred)\n",
    "if pred[0][0]>0.5:\n",
    "    category=\"No Sana\"\n",
    "elif pred[0][1]>0.5:\n",
    "    category=\"Sana\"\n",
    "    \n",
    "print(category)"
   ]
  },
  {
   "cell_type": "markdown",
   "id": "414eb421-66c3-4b9b-98c4-180261674006",
   "metadata": {},
   "source": [
    "## 4. Prueba modelo dataset originales"
   ]
  },
  {
   "cell_type": "code",
   "execution_count": 11,
   "id": "2df2b28a-7b5b-484e-9ffd-068ab3a16676",
   "metadata": {},
   "outputs": [],
   "source": [
    "model = tf.keras.models.load_model('modelo_originales.h5', compile=False)\n",
    "\n",
    "test_X = np.load(\"test_X_originales.npy\")\n",
    "test_Y = np.load(\"test_Y_originales.npy\")\n",
    "test_Y_one_hot = np.load(\"test_Y_one_hot_originales.npy\")"
   ]
  },
  {
   "cell_type": "markdown",
   "id": "2aac6dfe-0835-422a-a28d-5f5d99b8eade",
   "metadata": {},
   "source": [
    "## 4.1 Análisis de métricas de rendimiento"
   ]
  },
  {
   "cell_type": "code",
   "execution_count": 12,
   "id": "aed2eeb3-3958-483c-b8bf-489b110dc645",
   "metadata": {},
   "outputs": [
    {
     "name": "stdout",
     "output_type": "stream",
     "text": [
      "1/1 [==============================] - 0s 161ms/step\n"
     ]
    },
    {
     "data": {
      "text/plain": [
       "1.0"
      ]
     },
     "execution_count": 12,
     "metadata": {},
     "output_type": "execute_result"
    }
   ],
   "source": [
    "y_pred = model.predict(test_X)\n",
    "y_pred.shape\n",
    "test_Y_one_hot.shape\n",
    "y_pred[0,:].sum()"
   ]
  },
  {
   "cell_type": "markdown",
   "id": "415c387d-1149-4812-959d-d28978ae3a2f",
   "metadata": {},
   "source": [
    "## 4.2 Crear matriz de confusión"
   ]
  },
  {
   "cell_type": "code",
   "execution_count": 13,
   "id": "c2a5ca3d-a050-4f61-8a8e-559ef8bbed9c",
   "metadata": {},
   "outputs": [
    {
     "data": {
      "image/png": "[encoded data removed]",
      "text/plain": [
       "<Figure size 432x288 with 2 Axes>"
      ]
     },
     "metadata": {
      "needs_background": "light"
     },
     "output_type": "display_data"
    },
    {
     "data": {
      "text/html": [
       "<div>\n",
       "<style scoped>\n",
       "    .dataframe tbody tr th:only-of-type {\n",
       "        vertical-align: middle;\n",
       "    }\n",
       "\n",
       "    .dataframe tbody tr th {\n",
       "        vertical-align: top;\n",
       "    }\n",
       "\n",
       "    .dataframe thead th {\n",
       "        text-align: right;\n",
       "    }\n",
       "</style>\n",
       "<table border=\"1\" class=\"dataframe\">\n",
       "  <thead>\n",
       "    <tr style=\"text-align: right;\">\n",
       "      <th></th>\n",
       "      <th>0</th>\n",
       "      <th>1</th>\n",
       "      <th>accuracy</th>\n",
       "      <th>macro avg</th>\n",
       "      <th>weighted avg</th>\n",
       "    </tr>\n",
       "  </thead>\n",
       "  <tbody>\n",
       "    <tr>\n",
       "      <th>precision</th>\n",
       "      <td>1.000000</td>\n",
       "      <td>0.933333</td>\n",
       "      <td>0.944444</td>\n",
       "      <td>0.966667</td>\n",
       "      <td>0.948148</td>\n",
       "    </tr>\n",
       "    <tr>\n",
       "      <th>recall</th>\n",
       "      <td>0.750000</td>\n",
       "      <td>1.000000</td>\n",
       "      <td>0.944444</td>\n",
       "      <td>0.875000</td>\n",
       "      <td>0.944444</td>\n",
       "    </tr>\n",
       "    <tr>\n",
       "      <th>f1-score</th>\n",
       "      <td>0.857143</td>\n",
       "      <td>0.965517</td>\n",
       "      <td>0.944444</td>\n",
       "      <td>0.911330</td>\n",
       "      <td>0.941434</td>\n",
       "    </tr>\n",
       "    <tr>\n",
       "      <th>support</th>\n",
       "      <td>4.000000</td>\n",
       "      <td>14.000000</td>\n",
       "      <td>0.944444</td>\n",
       "      <td>18.000000</td>\n",
       "      <td>18.000000</td>\n",
       "    </tr>\n",
       "  </tbody>\n",
       "</table>\n",
       "</div>"
      ],
      "text/plain": [
       "                  0          1  accuracy  macro avg  weighted avg\n",
       "precision  1.000000   0.933333  0.944444   0.966667      0.948148\n",
       "recall     0.750000   1.000000  0.944444   0.875000      0.944444\n",
       "f1-score   0.857143   0.965517  0.944444   0.911330      0.941434\n",
       "support    4.000000  14.000000  0.944444  18.000000     18.000000"
      ]
     },
     "metadata": {},
     "output_type": "display_data"
    }
   ],
   "source": [
    "a, mi_dicc = show_metrics(y_pred,.5)\n",
    "\n",
    "#Crear tabla para latex\n",
    "\n",
    "#print(pd.DataFrame(mi_dicc).to_latex(index=False))"
   ]
  },
  {
   "cell_type": "markdown",
   "id": "6530adce-6780-48b7-b31b-0ae0e8b64a2c",
   "metadata": {},
   "source": [
    "## 4.3 Crear matriz de confusión"
   ]
  },
  {
   "cell_type": "code",
   "execution_count": 14,
   "id": "679ab2e1-bc29-41dd-b099-f1a74509be1a",
   "metadata": {},
   "outputs": [
    {
     "name": "stdout",
     "output_type": "stream",
     "text": [
      "1/1 [==============================] - 0s 29ms/step\n",
      "[[1. 0.]]\n",
      "No Sana\n"
     ]
    }
   ],
   "source": [
    "#imgpath='Fotos/sana/augmented_49_622492.jpeg'\n",
    "img=image.load_img(\"FotosCombinadas/Sana/augmented_35_3786006.jpeg\",target_size=DEFAULT_IMAGE_SIZE)\n",
    "\n",
    "x=image.img_to_array(img)\n",
    "x=np.expand_dims(x,axis=0)\n",
    "images=np.vstack([x])\n",
    "pred=model.predict(images,batch_size=16)\n",
    "print(pred)\n",
    "if pred[0][0]>0.5:\n",
    "    category=\"No Sana\"\n",
    "elif pred[0][1]>0.5:\n",
    "    category=\"Sana\"\n",
    "    \n",
    "print(category)"
   ]
  }
 ],
 "metadata": {
  "kernelspec": {
   "display_name": "Python 3 (ipykernel)",
   "language": "python",
   "name": "python3"
  },
  "language_info": {
   "codemirror_mode": {
    "name": "ipython",
    "version": 3
   },
   "file_extension": ".py",
   "mimetype": "text/x-python",
   "name": "python",
   "nbconvert_exporter": "python",
   "pygments_lexer": "ipython3",
   "version": "3.9.12"
  },
  "vscode": {
   "interpreter": {
    "hash": "d51ce6bd864fe5bd275665ea0e902a728b8307f66572f4fee322f1714350284c"
   }
  }
 },
 "nbformat": 4,
 "nbformat_minor": 5
}
