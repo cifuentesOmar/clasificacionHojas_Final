{
 "cells": [
  {
   "cell_type": "markdown",
   "id": "56c222ef-766e-4051-a8f3-31ec2db3239e",
   "metadata": {
    "tags": []
   },
   "source": [
    "## 1. Se importan las librerias"
   ]
  },
  {
   "cell_type": "code",
   "execution_count": 1,
   "id": "4264722a-1709-4115-8a87-3d15b0716f9c",
   "metadata": {
    "tags": []
   },
   "outputs": [],
   "source": [
    "import numpy as np\n",
    "import os\n",
    "import re\n",
    "import matplotlib.pyplot as plt\n",
    "%matplotlib inline\n",
    "from sklearn.metrics import classification_report\n",
    "import keras\n",
    "from keras.models import Sequential,Model\n",
    "from keras import backend as K\n",
    "from sklearn.metrics import confusion_matrix, ConfusionMatrixDisplay, roc_curve, auc, plot_confusion_matrix\n",
    "# Agregadas\n",
    "import tensorflow as tf\n",
    "from tensorflow.keras.utils import img_to_array\n",
    "import pandas as pd\n",
    "from tensorflow.keras.preprocessing import image"
   ]
  },
  {
   "cell_type": "markdown",
   "id": "12672dd6-30db-4c9d-a8d4-93b1bb6e7d65",
   "metadata": {
    "tags": []
   },
   "source": [
    "## 2. Cargar variables de confirguración"
   ]
  },
  {
   "cell_type": "code",
   "execution_count": 2,
   "id": "d6ed43af-39f6-4b78-8bc1-f7abf1589b54",
   "metadata": {},
   "outputs": [],
   "source": [
    "HEIGHT=128\n",
    "WIDTH=128\n",
    "DEPTH=3\n",
    "DEFAULT_IMAGE_SIZE = tuple((WIDTH, HEIGHT))\n",
    "INIT_LR = 1e-3\n",
    "epochs = 30\n",
    "batch_size = 16\n",
    "#Funciones de pérdida\n",
    "perd = \"categorical_crossentropy\""
   ]
  },
  {
   "cell_type": "markdown",
   "id": "ee572761-305f-42ac-9a6c-444b35568758",
   "metadata": {
    "tags": []
   },
   "source": [
    "## 3. Crear estructura de matriz de confusión"
   ]
  },
  {
   "cell_type": "code",
   "execution_count": 3,
   "id": "8ffa89c0-5f56-49f9-a704-d82e6a7a35b0",
   "metadata": {},
   "outputs": [],
   "source": [
    "def show_metrics(y_pred,th):\n",
    "    cm = confusion_matrix(test_Y, y_pred.argmax(axis=1)>th)\n",
    "    #print(cm)\n",
    "    disp = ConfusionMatrixDisplay(confusion_matrix=cm, display_labels=[\"No Sana\", \"Sana\"])\n",
    "    disp.plot(cmap=plt.cm.Greens)\n",
    "    plt.title('Matriz de confusión del clasificador')\n",
    "    plt.xlabel('Valores predichos')\n",
    "    plt.ylabel('Valores Verdaderos')\n",
    "    plt.show()\n",
    "    d = classification_report(test_Y, y_pred.argmax(axis=1) > th,output_dict=True)\n",
    "    #Mostra tabla\n",
    "    #display(pd.DataFrame.from_dict(d))\n",
    "    return y_pred, d"
   ]
  },
  {
   "cell_type": "markdown",
   "id": "164cacb8-4871-45bc-a22f-a17fcc9ee291",
   "metadata": {
    "tags": []
   },
   "source": [
    "## 4. Crear estructura metrica F1"
   ]
  },
  {
   "cell_type": "code",
   "execution_count": 4,
   "id": "e3c14db3-4bd2-41cd-847d-6d1315cc54c6",
   "metadata": {},
   "outputs": [],
   "source": [
    "def f1_metric(y_true, y_pred):\n",
    "    true_positives = K.sum(K.round(K.clip(y_true * y_pred, 0, 1)))\n",
    "    possible_positives = K.sum(K.round(K.clip(y_true, 0, 1)))\n",
    "    predicted_positives = K.sum(K.round(K.clip(y_pred, 0, 1)))\n",
    "    precision = true_positives / (predicted_positives + K.epsilon())\n",
    "    recall = true_positives / (possible_positives + K.epsilon())\n",
    "    f1_val = 2*(precision*recall)/(precision+recall+K.epsilon())\n",
    "    return f1_val"
   ]
  },
  {
   "cell_type": "markdown",
   "id": "30fc3f8f-0410-4d84-94f5-0028f665b759",
   "metadata": {
    "tags": []
   },
   "source": [
    "## 5. Prueba modelo dataset aumentadas\n",
    "Cargar modelo y valores del dataset original"
   ]
  },
  {
   "cell_type": "code",
   "execution_count": 5,
   "id": "1584add9-7d1d-4cf9-a60c-25a634529a04",
   "metadata": {},
   "outputs": [
    {
     "name": "stderr",
     "output_type": "stream",
     "text": [
      "2022-12-17 13:52:52.936770: I tensorflow/core/platform/cpu_feature_guard.cc:193] This TensorFlow binary is optimized with oneAPI Deep Neural Network Library (oneDNN) to use the following CPU instructions in performance-critical operations:  SSE4.1 SSE4.2\n",
      "To enable them in other operations, rebuild TensorFlow with the appropriate compiler flags.\n"
     ]
    }
   ],
   "source": [
    "model = tf.keras.models.load_model('modelo_aumentadas.h5', compile=False)\n",
    "\n",
    "test_X = np.load(\"test_X_originales.npy\")\n",
    "test_Y = np.load(\"test_Y_originales.npy\")\n",
    "test_Y_one_hot = np.load(\"test_Y_one_hot_originales.npy\")"
   ]
  },
  {
   "cell_type": "markdown",
   "id": "e6903434-7cbc-42be-925f-8aba05638315",
   "metadata": {
    "tags": []
   },
   "source": [
    "## 5.1 Análisis de métricas de rendimiento"
   ]
  },
  {
   "cell_type": "code",
   "execution_count": 6,
   "id": "ff17cdc2-6e83-40cb-9658-6ec720c85da9",
   "metadata": {},
   "outputs": [
    {
     "name": "stdout",
     "output_type": "stream",
     "text": [
      "1/1 [==============================] - 1s 666ms/step - loss: 0.3233 - accuracy: 0.8889 - f1_metric: 0.8889\n",
      "Test accuracy: 0.8888888955116272\n",
      "Test F1: 0.8888888359069824\n"
     ]
    }
   ],
   "source": [
    "opt = keras.optimizers.Adam(learning_rate=INIT_LR, decay=INIT_LR / epochs)\n",
    "model.compile(loss=perd, optimizer=opt,metrics=['accuracy', f1_metric])\n",
    "\n",
    "test_eval = model.evaluate(test_X, test_Y_one_hot, verbose=1)\n",
    "\n",
    "print('Test accuracy:', test_eval[1])\n",
    "print('Test F1:', test_eval[2])"
   ]
  },
  {
   "cell_type": "markdown",
   "id": "b1361a77-1b39-46cf-99a4-01ea9e2facd0",
   "metadata": {
    "tags": []
   },
   "source": [
    "## 5.2 Crear matriz de confusión"
   ]
  },
  {
   "cell_type": "code",
   "execution_count": 7,
   "id": "38e9d26c-9bfe-410e-a0b7-b9553ccc1547",
   "metadata": {},
   "outputs": [
    {
     "name": "stdout",
     "output_type": "stream",
     "text": [
      "1/1 [==============================] - 0s 439ms/step\n"
     ]
    },
    {
     "data": {
      "image/png": "[encoded data removed]",
      "text/plain": [
       "<Figure size 432x288 with 2 Axes>"
      ]
     },
     "metadata": {
      "needs_background": "light"
     },
     "output_type": "display_data"
    }
   ],
   "source": [
    "y_pred = model.predict(test_X)\n",
    "y_pred.shape\n",
    "test_Y_one_hot.shape\n",
    "y_pred[0,:].sum()\n",
    "\n",
    "a, mi_dicc = show_metrics(y_pred,.5)\n",
    "\n",
    "#Crear tabla para latex\n",
    "\n",
    "#print(pd.DataFrame(mi_dicc).to_latex(index=False))"
   ]
  },
  {
   "cell_type": "markdown",
   "id": "7b5d1e15-c0a0-4b54-9f62-c0959f10d9d7",
   "metadata": {
    "tags": []
   },
   "source": [
    "## 5.3 Probar el modelo con una Hoja"
   ]
  },
  {
   "cell_type": "code",
   "execution_count": 8,
   "id": "71254c2e-e7f8-4d6f-9259-06d95eca7f0f",
   "metadata": {},
   "outputs": [
    {
     "name": "stdout",
     "output_type": "stream",
     "text": [
      "1/1 [==============================] - 0s 32ms/step\n",
      "[[0. 1.]]\n",
      "Sana\n"
     ]
    }
   ],
   "source": [
    "#imgpath='Fotos/sana/augmented_49_622492.jpeg'\n",
    "img=image.load_img(\"FotosCombinadas/Sana/augmented_35_3786006.jpeg\",target_size=DEFAULT_IMAGE_SIZE)\n",
    "\n",
    "x=image.img_to_array(img)\n",
    "x=np.expand_dims(x,axis=0)\n",
    "images=np.vstack([x])\n",
    "pred=model.predict(images,batch_size=16)\n",
    "print(pred)\n",
    "if pred[0][0]>0.5:\n",
    "    category=\"No Sana\"\n",
    "elif pred[0][1]>0.5:\n",
    "    category=\"Sana\"\n",
    "    \n",
    "print(category)"
   ]
  },
  {
   "cell_type": "markdown",
   "id": "32ca4e1d-7ffc-4190-9ed1-49ae5e11545f",
   "metadata": {
    "tags": []
   },
   "source": [
    "## 6. Prueba modelo dataset combinadas\n",
    "Cargar modelo y valores del dataset original"
   ]
  },
  {
   "cell_type": "code",
   "execution_count": 9,
   "id": "2b4c0b31-7dd5-4e86-8835-315de9d96b2f",
   "metadata": {},
   "outputs": [],
   "source": [
    "model = tf.keras.models.load_model('modelo_combinadas.h5', compile=False)\n",
    "\n",
    "test_X = np.load(\"test_X_originales.npy\")\n",
    "test_Y = np.load(\"test_Y_originales.npy\")\n",
    "test_Y_one_hot = np.load(\"test_Y_one_hot_originales.npy\")"
   ]
  },
  {
   "cell_type": "markdown",
   "id": "85b31870-61b6-42ba-bf5f-521d1a58e4ad",
   "metadata": {
    "tags": []
   },
   "source": [
    "## 6.1 Análisis de métricas de rendimiento"
   ]
  },
  {
   "cell_type": "code",
   "execution_count": 10,
   "id": "5a6d6021-85cb-42f5-8a24-7b7b6029de5f",
   "metadata": {},
   "outputs": [
    {
     "name": "stdout",
     "output_type": "stream",
     "text": [
      "1/1 [==============================] - 0s 329ms/step - loss: 0.0919 - accuracy: 1.0000 - f1_metric: 1.0000\n",
      "Test accuracy: 1.0\n",
      "Test F1: 1.0\n"
     ]
    }
   ],
   "source": [
    "opt = keras.optimizers.Adam(learning_rate=INIT_LR, decay=INIT_LR / epochs)\n",
    "model.compile(loss=perd, optimizer=opt,metrics=['accuracy', f1_metric])\n",
    "\n",
    "test_eval = model.evaluate(test_X, test_Y_one_hot, verbose=1)\n",
    "\n",
    "print('Test accuracy:', test_eval[1])\n",
    "print('Test F1:', test_eval[2])"
   ]
  },
  {
   "cell_type": "markdown",
   "id": "cd966a25-f12a-4bb4-b201-0e3ea7e4109a",
   "metadata": {
    "tags": []
   },
   "source": [
    "## 6.2 Crear matriz de confusión"
   ]
  },
  {
   "cell_type": "code",
   "execution_count": 11,
   "id": "3a5a261c-761b-45c0-a8b0-2a2f7e618c5a",
   "metadata": {},
   "outputs": [
    {
     "name": "stdout",
     "output_type": "stream",
     "text": [
      "1/1 [==============================] - 0s 126ms/step\n"
     ]
    },
    {
     "data": {
      "image/png": "[encoded data removed]",
      "text/plain": [
       "<Figure size 432x288 with 2 Axes>"
      ]
     },
     "metadata": {
      "needs_background": "light"
     },
     "output_type": "display_data"
    }
   ],
   "source": [
    "y_pred = model.predict(test_X)\n",
    "y_pred.shape\n",
    "test_Y_one_hot.shape\n",
    "y_pred[0,:].sum()\n",
    "\n",
    "a, mi_dicc = show_metrics(y_pred,.5)"
   ]
  },
  {
   "cell_type": "markdown",
   "id": "3d38280a-56e8-4fb5-994d-5b10228fdf54",
   "metadata": {
    "tags": []
   },
   "source": [
    "## 6.3 Probar el modelo con una Hoja"
   ]
  },
  {
   "cell_type": "code",
   "execution_count": 12,
   "id": "120bb2bc-ab82-4c77-b8fb-3203ec0cd98d",
   "metadata": {},
   "outputs": [
    {
     "name": "stdout",
     "output_type": "stream",
     "text": [
      "1/1 [==============================] - 0s 32ms/step\n",
      "[[0. 1.]]\n",
      "Sana\n"
     ]
    }
   ],
   "source": [
    "#imgpath='Fotos/sana/augmented_49_622492.jpeg'\n",
    "img=image.load_img(\"FotosCombinadas/Sana/augmented_35_3786006.jpeg\",target_size=DEFAULT_IMAGE_SIZE)\n",
    "\n",
    "x=image.img_to_array(img)\n",
    "x=np.expand_dims(x,axis=0)\n",
    "images=np.vstack([x])\n",
    "pred=model.predict(images,batch_size=16)\n",
    "print(pred)\n",
    "if pred[0][0]>0.5:\n",
    "    category=\"No Sana\"\n",
    "elif pred[0][1]>0.5:\n",
    "    category=\"Sana\"\n",
    "    \n",
    "print(category)"
   ]
  },
  {
   "cell_type": "markdown",
   "id": "414eb421-66c3-4b9b-98c4-180261674006",
   "metadata": {
    "tags": []
   },
   "source": [
    "## 7. Prueba modelo dataset originales"
   ]
  },
  {
   "cell_type": "code",
   "execution_count": 13,
   "id": "2df2b28a-7b5b-484e-9ffd-068ab3a16676",
   "metadata": {},
   "outputs": [],
   "source": [
    "model = tf.keras.models.load_model('modelo_originales.h5', compile=False)\n",
    "\n",
    "test_X = np.load(\"test_X_originales.npy\")\n",
    "test_Y = np.load(\"test_Y_originales.npy\")\n",
    "test_Y_one_hot = np.load(\"test_Y_one_hot_originales.npy\")"
   ]
  },
  {
   "cell_type": "markdown",
   "id": "2aac6dfe-0835-422a-a28d-5f5d99b8eade",
   "metadata": {
    "tags": []
   },
   "source": [
    "## 7.1 Análisis de métricas de rendimiento"
   ]
  },
  {
   "cell_type": "code",
   "execution_count": 14,
   "id": "51430b24-4dac-4704-b2d6-ae10eb931071",
   "metadata": {},
   "outputs": [
    {
     "name": "stdout",
     "output_type": "stream",
     "text": [
      "1/1 [==============================] - 1s 626ms/step - loss: 0.2088 - accuracy: 0.9444 - f1_metric: 0.9444\n",
      "Test accuracy: 0.9444444179534912\n",
      "Test F1: 0.9444443583488464\n"
     ]
    }
   ],
   "source": [
    "opt = keras.optimizers.Adam(learning_rate=INIT_LR, decay=INIT_LR / epochs)\n",
    "model.compile(loss=perd, optimizer=opt,metrics=['accuracy', f1_metric])\n",
    "\n",
    "test_eval = model.evaluate(test_X, test_Y_one_hot, verbose=1)\n",
    "\n",
    "print('Test accuracy:', test_eval[1])\n",
    "print('Test F1:', test_eval[2])"
   ]
  },
  {
   "cell_type": "markdown",
   "id": "415c387d-1149-4812-959d-d28978ae3a2f",
   "metadata": {
    "tags": []
   },
   "source": [
    "## 7.2 Crear matriz de confusión"
   ]
  },
  {
   "cell_type": "code",
   "execution_count": 15,
   "id": "c2a5ca3d-a050-4f61-8a8e-559ef8bbed9c",
   "metadata": {},
   "outputs": [
    {
     "name": "stdout",
     "output_type": "stream",
     "text": [
      "1/1 [==============================] - 0s 208ms/step\n"
     ]
    },
    {
     "data": {
      "image/png": "[encoded data removed]",
      "text/plain": [
       "<Figure size 432x288 with 2 Axes>"
      ]
     },
     "metadata": {
      "needs_background": "light"
     },
     "output_type": "display_data"
    }
   ],
   "source": [
    "y_pred = model.predict(test_X)\n",
    "y_pred.shape\n",
    "test_Y_one_hot.shape\n",
    "y_pred[0,:].sum()\n",
    "\n",
    "a, mi_dicc = show_metrics(y_pred,.5)"
   ]
  },
  {
   "cell_type": "markdown",
   "id": "e75603e3-76dd-4ca5-9a20-13925fb25a3e",
   "metadata": {
    "tags": []
   },
   "source": [
    "## 7.3 Probar el modelo con una Hoja"
   ]
  },
  {
   "cell_type": "code",
   "execution_count": 16,
   "id": "679ab2e1-bc29-41dd-b099-f1a74509be1a",
   "metadata": {},
   "outputs": [
    {
     "name": "stdout",
     "output_type": "stream",
     "text": [
      "1/1 [==============================] - 0s 75ms/step\n",
      "[[1. 0.]]\n",
      "No Sana\n"
     ]
    }
   ],
   "source": [
    "#imgpath='Fotos/sana/augmented_49_622492.jpeg'\n",
    "img=image.load_img(\"FotosCombinadas/Sana/augmented_35_3786006.jpeg\",target_size=DEFAULT_IMAGE_SIZE)\n",
    "\n",
    "x=image.img_to_array(img)\n",
    "x=np.expand_dims(x,axis=0)\n",
    "images=np.vstack([x])\n",
    "pred=model.predict(images,batch_size=16)\n",
    "print(pred)\n",
    "if pred[0][0]>0.5:\n",
    "    category=\"No Sana\"\n",
    "elif pred[0][1]>0.5:\n",
    "    category=\"Sana\"\n",
    "    \n",
    "print(category)"
   ]
  }
 ],
 "metadata": {
  "kernelspec": {
   "display_name": "Python 3 (ipykernel)",
   "language": "python",
   "name": "python3"
  },
  "language_info": {
   "codemirror_mode": {
    "name": "ipython",
    "version": 3
   },
   "file_extension": ".py",
   "mimetype": "text/x-python",
   "name": "python",
   "nbconvert_exporter": "python",
   "pygments_lexer": "ipython3",
   "version": "3.9.12"
  },
  "vscode": {
   "interpreter": {
    "hash": "d51ce6bd864fe5bd275665ea0e902a728b8307f66572f4fee322f1714350284c"
   }
  }
 },
 "nbformat": 4,
 "nbformat_minor": 5
}
