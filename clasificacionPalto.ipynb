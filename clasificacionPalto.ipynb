{
 "cells": [
  {
   "cell_type": "markdown",
   "id": "56c222ef-766e-4051-a8f3-31ec2db3239e",
   "metadata": {
    "tags": []
   },
   "source": [
    "## 1. Se importan las librerias"
   ]
  },
  {
   "cell_type": "code",
   "execution_count": 2,
   "id": "4264722a-1709-4115-8a87-3d15b0716f9c",
   "metadata": {
    "tags": []
   },
   "outputs": [],
   "source": [
    "import numpy as np\n",
    "import os\n",
    "import re\n",
    "import matplotlib.pyplot as plt\n",
    "%matplotlib inline\n",
    "from sklearn.model_selection import train_test_split\n",
    "from sklearn.metrics import classification_report\n",
    "import keras\n",
    "from keras.utils import to_categorical\n",
    "from keras.models import Sequential,Model\n",
    "from keras.layers import Dense, Dropout, Flatten, Activation\n",
    "from keras.layers import Conv2D, MaxPooling2D\n",
    "from tensorflow.keras.layers import BatchNormalization\n",
    "from keras import backend as K\n",
    "from sklearn.metrics import confusion_matrix, ConfusionMatrixDisplay, roc_curve, auc, plot_confusion_matrix\n",
    "# Agregadas\n",
    "from sklearn.datasets import make_classification\n",
    "from sklearn.svm import SVC\n",
    "import tensorflow as tf\n",
    "from tensorflow.keras.utils import img_to_array\n",
    "import cv2\n",
    "from sklearn.preprocessing import LabelBinarizer\n",
    "import pickle\n",
    "from focal_loss import BinaryFocalLoss\n",
    "from sklearn.metrics import precision_score, recall_score, accuracy_score, f1_score\n",
    "import pandas as pd"
   ]
  },
  {
   "cell_type": "markdown",
   "id": "30fc3f8f-0410-4d84-94f5-0028f665b759",
   "metadata": {},
   "source": [
    "## 2. Parametrizaciones"
   ]
  },
  {
   "cell_type": "code",
   "execution_count": 3,
   "id": "57b17e4c-c0dc-453d-9f51-edbe017cf3fb",
   "metadata": {},
   "outputs": [],
   "source": [
    "#dirname = os.path.join(\"../FotosOriginales\")\n",
    "#dirname = os.path.join(\"../FotosAumentadas\")\n",
    "dirname = os.path.join(\"FotosCombinadas\")\n",
    "imgpath = dirname + os.sep \n",
    "HEIGHT=128\n",
    "WIDTH=128\n",
    "DEPTH=3\n",
    "DEFAULT_IMAGE_SIZE = tuple((WIDTH, HEIGHT))\n",
    "INIT_LR = 1e-3\n",
    "epochs = 30\n",
    "batch_size = 16\n",
    "inputShape = (HEIGHT, WIDTH, DEPTH)\n",
    "chanDim = -1"
   ]
  },
  {
   "cell_type": "markdown",
   "id": "368eeaec-8ad0-49b5-93b5-c4973a6700b1",
   "metadata": {},
   "source": [
    "## 3. Se cargan las imágenes"
   ]
  },
  {
   "cell_type": "code",
   "execution_count": 4,
   "id": "57d40539-93e7-4a7a-9c53-d434cb5f8433",
   "metadata": {
    "tags": []
   },
   "outputs": [
    {
     "name": "stdout",
     "output_type": "stream",
     "text": [
      "Leyendo imágenes de  FotosCombinadas/\n",
      "FotosCombinadas/NoSana 1\n",
      "FotosCombinadas/Sana 155\n",
      "Directorios leidos: 2\n",
      "Imagenes en cada directorio [156, 212]\n",
      "Imagenes en directorio NoSana 156\n",
      "Imagenes en directorio Sana 212\n",
      "Suma Total de imagenes en subdirs: 368\n"
     ]
    }
   ],
   "source": [
    "images = []\n",
    "directories = []\n",
    "dircount = []\n",
    "prevRoot=''\n",
    "cant=0\n",
    "\n",
    "print(\"Leyendo imágenes de \",imgpath)\n",
    "\n",
    "for root, dirnames, filenames in os.walk(imgpath):\n",
    "    for filename in filenames:\n",
    "        if re.search(\"\\.(jpg|jpeg|png|bmp|tiff)$\", filename):\n",
    "            cant=cant+1\n",
    "            filepath = os.path.join(root, filename)\n",
    "            image = plt.imread(filepath)\n",
    "            res = cv2.resize(image, dsize=(WIDTH, HEIGHT), interpolation=cv2.INTER_CUBIC)\n",
    "            images.append(res)\n",
    "            b = \"Leyendo...\" + str(cant)\n",
    "            print (b, end=\"\\r\")\n",
    "            if prevRoot !=root:\n",
    "                print(root, cant)\n",
    "                prevRoot=root\n",
    "                directories.append(root)\n",
    "                dircount.append(cant)\n",
    "                cant=0\n",
    "dircount.append(cant)\n",
    "\n",
    "dircount = dircount[1:]\n",
    "dircount[0]=dircount[0]+1\n",
    "print('Directorios leidos:',len(directories))\n",
    "print(\"Imagenes en cada directorio\", dircount)\n",
    "print(\"Imagenes en directorio NoSana\", dircount[0])\n",
    "print(\"Imagenes en directorio Sana\", dircount[1])\n",
    "print('Suma Total de imagenes en subdirs:',sum(dircount))"
   ]
  },
  {
   "cell_type": "markdown",
   "id": "94ced510-8be3-488d-8e60-b9af759887b4",
   "metadata": {},
   "source": [
    "## 4. Se crean etiquetas y clases"
   ]
  },
  {
   "cell_type": "code",
   "execution_count": 5,
   "id": "65e86cde-2897-496b-82aa-a80e796352a7",
   "metadata": {},
   "outputs": [
    {
     "name": "stdout",
     "output_type": "stream",
     "text": [
      "Cantidad etiquetas creadas:  368\n",
      "0 NoSana\n",
      "1 Sana\n",
      "Número total de salidas :  2\n",
      "Clases de salida :  [0 1]\n"
     ]
    }
   ],
   "source": [
    "labels=[]\n",
    "indice=0\n",
    "for cantidad in dircount:\n",
    "    for i in range(cantidad):\n",
    "        labels.append(indice)\n",
    "    indice=indice+1\n",
    "print(\"Cantidad etiquetas creadas: \",len(labels))\n",
    "etiquetas=[]\n",
    "indice=0\n",
    "for directorio in directories:\n",
    "    name = directorio.split(os.sep)\n",
    "    print(indice , name[len(name)-1])\n",
    "    etiquetas.append(name[len(name)-1])\n",
    "    indice=indice+1\n",
    "\n",
    "y = np.array(labels)\n",
    "X = np.array(images, dtype=np.uint8) #Lista a numpy\n",
    "\n",
    "classes = np.unique(y)\n",
    "nClasses = len(classes)\n",
    "print('Número total de salidas : ', nClasses)\n",
    "print('Clases de salida : ', classes)"
   ]
  },
  {
   "cell_type": "markdown",
   "id": "ca384d93-463a-48c0-b229-9befd0b61ae8",
   "metadata": {
    "tags": []
   },
   "source": [
    "## 5. Distribución de clases"
   ]
  },
  {
   "cell_type": "code",
   "execution_count": 6,
   "id": "2c644595-e1c0-4150-8092-59d2fe1c21e4",
   "metadata": {},
   "outputs": [
    {
     "data": {
      "image/png": "[encoded data removed]",
      "text/plain": [
       "<Figure size 360x216 with 1 Axes>"
      ]
     },
     "metadata": {
      "needs_background": "light"
     },
     "output_type": "display_data"
    }
   ],
   "source": [
    "font = {'size'   : 12}\n",
    "plt.rc('font', **font)\n",
    "\n",
    "clases = list(etiquetas)\n",
    "valores = list([dircount[0], dircount[1]])\n",
    "fig = plt.figure(figsize = (5, 3))\n",
    " \n",
    "plt.bar(clases, valores, color =[\"red\", \"green\"], width = 0.5)\n",
    "plt.xlabel(\"Clases\")\n",
    "plt.ylabel(\"Muestras\")\n",
    "plt.title(\"Distribución de clases\")\n",
    "plt.text(-0.2, dircount[0]-15,str(round(dircount[0]/(dircount[0]+dircount[1])*100,2)) + \"% (\" + str(dircount[0]) + \")\", fontsize=10)\n",
    "plt.text(0.8, dircount[1]-15, str(round(dircount[1]/(dircount[0]+dircount[1])*100,2)) + \"% (\" + str(dircount[1]) + \")\", fontsize=10)\n",
    "plt.show()"
   ]
  },
  {
   "cell_type": "markdown",
   "id": "1dfcf8b1-f1d3-42c6-8887-fc79e695fbf0",
   "metadata": {},
   "source": [
    "## 6. Se crean los sets de Entrenamiento y Test, Validación y Preprocesar"
   ]
  },
  {
   "cell_type": "code",
   "execution_count": 7,
   "id": "0db01841-1951-49d5-b940-7f11f1d4a3f1",
   "metadata": {},
   "outputs": [
    {
     "name": "stdout",
     "output_type": "stream",
     "text": [
      "Training data shape :  (294, 128, 128, 3) (294,)\n",
      "Testing data shape :  (74, 128, 128, 3) (74,)\n",
      "Etiqueta original: 1\n",
      "Convertida a one-hot: [0. 1.]\n",
      "(235, 128, 128, 3) (59, 128, 128, 3) (235, 2) (59, 2)\n"
     ]
    }
   ],
   "source": [
    "#Crear los grupos de entrenamiento y testing\n",
    "train_X,test_X,train_Y,test_Y = train_test_split(X,y,test_size=0.2)\n",
    "print('Training data shape : ', train_X.shape, train_Y.shape)\n",
    "print('Testing data shape : ', test_X.shape, test_Y.shape)\n",
    "\n",
    "train_X = train_X.astype('float32')\n",
    "test_X = test_X.astype('float32')\n",
    "train_X = train_X / 255.\n",
    "test_X = test_X / 255.\n",
    "\n",
    "# Cambia las etiquetas desde categorical a one-hot\n",
    "train_Y_one_hot = to_categorical(train_Y)\n",
    "test_Y_one_hot = to_categorical(test_Y)\n",
    "\n",
    "# Muestra las etiquetas cambiadas desde category a one-hot\n",
    "print('Etiqueta original:', train_Y[0])\n",
    "print('Convertida a one-hot:', train_Y_one_hot[0])\n",
    "\n",
    "train_X,valid_X,train_label,valid_label = train_test_split(train_X, train_Y_one_hot, test_size=0.2, random_state=13)\n",
    "\n",
    "print(train_X.shape,valid_X.shape,train_label.shape,valid_label.shape)"
   ]
  },
  {
   "cell_type": "markdown",
   "id": "e3fed675-0f51-48d8-aeb1-3a36fe8516d3",
   "metadata": {},
   "source": [
    "## 7. Se crea la red"
   ]
  },
  {
   "cell_type": "code",
   "execution_count": 8,
   "id": "d358d398-315d-4ed6-9401-242b18927a2e",
   "metadata": {},
   "outputs": [
    {
     "name": "stdout",
     "output_type": "stream",
     "text": [
      "Model: \"sequential\"\n",
      "_________________________________________________________________\n",
      " Layer (type)                Output Shape              Param #   \n",
      "=================================================================\n",
      " conv2d (Conv2D)             (None, 128, 128, 32)      896       \n",
      "                                                                 \n",
      " max_pooling2d (MaxPooling2D  (None, 64, 64, 32)       0         \n",
      " )                                                               \n",
      "                                                                 \n",
      " dropout (Dropout)           (None, 64, 64, 32)        0         \n",
      "                                                                 \n",
      " conv2d_1 (Conv2D)           (None, 64, 64, 32)        9248      \n",
      "                                                                 \n",
      " max_pooling2d_1 (MaxPooling  (None, 32, 32, 32)       0         \n",
      " 2D)                                                             \n",
      "                                                                 \n",
      " dropout_1 (Dropout)         (None, 32, 32, 32)        0         \n",
      "                                                                 \n",
      " conv2d_2 (Conv2D)           (None, 32, 32, 32)        9248      \n",
      "                                                                 \n",
      " max_pooling2d_2 (MaxPooling  (None, 16, 16, 32)       0         \n",
      " 2D)                                                             \n",
      "                                                                 \n",
      " dropout_2 (Dropout)         (None, 16, 16, 32)        0         \n",
      "                                                                 \n",
      " flatten (Flatten)           (None, 8192)              0         \n",
      "                                                                 \n",
      " dense (Dense)               (None, 128)               1048704   \n",
      "                                                                 \n",
      " dropout_3 (Dropout)         (None, 128)               0         \n",
      "                                                                 \n",
      " dense_1 (Dense)             (None, 2)                 258       \n",
      "                                                                 \n",
      "=================================================================\n",
      "Total params: 1,068,354\n",
      "Trainable params: 1,068,354\n",
      "Non-trainable params: 0\n",
      "_________________________________________________________________\n"
     ]
    },
    {
     "name": "stderr",
     "output_type": "stream",
     "text": [
      "2022-12-11 20:30:07.589228: I tensorflow/core/platform/cpu_feature_guard.cc:193] This TensorFlow binary is optimized with oneAPI Deep Neural Network Library (oneDNN) to use the following CPU instructions in performance-critical operations:  SSE4.1 SSE4.2\n",
      "To enable them in other operations, rebuild TensorFlow with the appropriate compiler flags.\n"
     ]
    }
   ],
   "source": [
    "# Calculo de métrica F1\n",
    "def f1_metric(y_true, y_pred):\n",
    "    true_positives = K.sum(K.round(K.clip(y_true * y_pred, 0, 1)))\n",
    "    possible_positives = K.sum(K.round(K.clip(y_true, 0, 1)))\n",
    "    predicted_positives = K.sum(K.round(K.clip(y_pred, 0, 1)))\n",
    "    precision = true_positives / (predicted_positives + K.epsilon())\n",
    "    recall = true_positives / (possible_positives + K.epsilon())\n",
    "    f1_val = 2*(precision*recall)/(precision+recall+K.epsilon())\n",
    "    return f1_val\n",
    "\n",
    "model = Sequential()\n",
    "\n",
    "# Modelo\n",
    "model.add(Conv2D(filters=32, kernel_size=(3, 3), padding='same', activation='relu', input_shape=inputShape))\n",
    "model.add(MaxPooling2D(pool_size=(2, 2)))\n",
    "model.add(Dropout(0.25))\n",
    "\n",
    "model.add(Conv2D(filters=32, kernel_size=(3, 3), padding='same', activation='relu'))\n",
    "model.add(MaxPooling2D(pool_size=(2, 2)))\n",
    "model.add(Dropout(0.25))\n",
    "\n",
    "model.add(Conv2D(filters=32, kernel_size=(3, 3), padding='same', activation='relu'))\n",
    "model.add(MaxPooling2D(pool_size=(2, 2)))\n",
    "model.add(Dropout(0.25))\n",
    "\n",
    "model.add(Flatten())\n",
    "\n",
    "model.add(Dense(128, activation='relu'))\n",
    "model.add(Dropout(0.5))\n",
    "\n",
    "model.add(Dense(nClasses, activation='softmax'))\n",
    "\n",
    "model.summary()\n",
    "\n",
    "#Funciones de pérdida\n",
    "perd = \"categorical_crossentropy\"\n",
    "\n",
    "#Optimizadores\n",
    "opt = keras.optimizers.Adam(learning_rate=INIT_LR, decay=INIT_LR / epochs)\n",
    "\n",
    "model.compile(loss=perd, optimizer=opt,metrics=['accuracy', f1_metric])"
   ]
  },
  {
   "cell_type": "markdown",
   "id": "cb59a940-eb25-4c6d-9388-f2e25eee8a0c",
   "metadata": {},
   "source": [
    "## 8. Se entrena la red"
   ]
  },
  {
   "cell_type": "code",
   "execution_count": 26,
   "id": "db2db7c8-657c-44d3-8809-93a09c6f92c5",
   "metadata": {},
   "outputs": [
    {
     "ename": "TypeError",
     "evalue": "unsupported operand type(s) for -: 'range' and 'int'",
     "output_type": "error",
     "traceback": [
      "\u001b[0;31m---------------------------------------------------------------------------\u001b[0m",
      "\u001b[0;31mTypeError\u001b[0m                                 Traceback (most recent call last)",
      "Input \u001b[0;32mIn [26]\u001b[0m, in \u001b[0;36m<cell line: 1>\u001b[0;34m()\u001b[0m\n\u001b[0;32m----> 1\u001b[0m history \u001b[38;5;241m=\u001b[39m \u001b[43mmodel\u001b[49m\u001b[38;5;241;43m.\u001b[39;49m\u001b[43mfit\u001b[49m\u001b[43m(\u001b[49m\u001b[43mtrain_X\u001b[49m\u001b[43m,\u001b[49m\u001b[43m \u001b[49m\u001b[43mtrain_label\u001b[49m\u001b[43m,\u001b[49m\u001b[43m \u001b[49m\u001b[43mbatch_size\u001b[49m\u001b[38;5;241;43m=\u001b[39;49m\u001b[43mbatch_size\u001b[49m\u001b[43m,\u001b[49m\u001b[43mepochs\u001b[49m\u001b[38;5;241;43m=\u001b[39;49m\u001b[43mepochs\u001b[49m\u001b[43m,\u001b[49m\u001b[43mverbose\u001b[49m\u001b[38;5;241;43m=\u001b[39;49m\u001b[38;5;241;43m1\u001b[39;49m\u001b[43m,\u001b[49m\u001b[43mvalidation_data\u001b[49m\u001b[38;5;241;43m=\u001b[39;49m\u001b[43m(\u001b[49m\u001b[43mvalid_X\u001b[49m\u001b[43m,\u001b[49m\u001b[43m \u001b[49m\u001b[43mvalid_label\u001b[49m\u001b[43m)\u001b[49m\u001b[43m)\u001b[49m\n\u001b[1;32m      3\u001b[0m \u001b[38;5;66;03m# Se guarda el modelo\u001b[39;00m\n\u001b[1;32m      4\u001b[0m model\u001b[38;5;241m.\u001b[39msave(\u001b[38;5;124m\"\u001b[39m\u001b[38;5;124mmodelCombinadas-BASE.h5\u001b[39m\u001b[38;5;124m\"\u001b[39m)\n",
      "File \u001b[0;32m~/opt/anaconda3/lib/python3.9/site-packages/keras/utils/traceback_utils.py:67\u001b[0m, in \u001b[0;36mfilter_traceback.<locals>.error_handler\u001b[0;34m(*args, **kwargs)\u001b[0m\n\u001b[1;32m     65\u001b[0m \u001b[38;5;28;01mexcept\u001b[39;00m \u001b[38;5;167;01mException\u001b[39;00m \u001b[38;5;28;01mas\u001b[39;00m e:  \u001b[38;5;66;03m# pylint: disable=broad-except\u001b[39;00m\n\u001b[1;32m     66\u001b[0m   filtered_tb \u001b[38;5;241m=\u001b[39m _process_traceback_frames(e\u001b[38;5;241m.\u001b[39m__traceback__)\n\u001b[0;32m---> 67\u001b[0m   \u001b[38;5;28;01mraise\u001b[39;00m e\u001b[38;5;241m.\u001b[39mwith_traceback(filtered_tb) \u001b[38;5;28;01mfrom\u001b[39;00m \u001b[38;5;28mNone\u001b[39m\n\u001b[1;32m     68\u001b[0m \u001b[38;5;28;01mfinally\u001b[39;00m:\n\u001b[1;32m     69\u001b[0m   \u001b[38;5;28;01mdel\u001b[39;00m filtered_tb\n",
      "File \u001b[0;32m~/opt/anaconda3/lib/python3.9/site-packages/keras/engine/data_adapter.py:1156\u001b[0m, in \u001b[0;36mDataHandler.__init__\u001b[0;34m(self, x, y, sample_weight, batch_size, steps_per_epoch, initial_epoch, epochs, shuffle, class_weight, max_queue_size, workers, use_multiprocessing, model, steps_per_execution, distribute)\u001b[0m\n\u001b[1;32m   1148\u001b[0m   \u001b[38;5;28mself\u001b[39m\u001b[38;5;241m.\u001b[39m_steps_per_execution \u001b[38;5;241m=\u001b[39m steps_per_execution\n\u001b[1;32m   1150\u001b[0m adapter_cls \u001b[38;5;241m=\u001b[39m select_data_adapter(x, y)\n\u001b[1;32m   1151\u001b[0m \u001b[38;5;28mself\u001b[39m\u001b[38;5;241m.\u001b[39m_adapter \u001b[38;5;241m=\u001b[39m adapter_cls(\n\u001b[1;32m   1152\u001b[0m     x,\n\u001b[1;32m   1153\u001b[0m     y,\n\u001b[1;32m   1154\u001b[0m     batch_size\u001b[38;5;241m=\u001b[39mbatch_size,\n\u001b[1;32m   1155\u001b[0m     steps\u001b[38;5;241m=\u001b[39msteps_per_epoch,\n\u001b[0;32m-> 1156\u001b[0m     epochs\u001b[38;5;241m=\u001b[39m\u001b[43mepochs\u001b[49m\u001b[43m \u001b[49m\u001b[38;5;241;43m-\u001b[39;49m\u001b[43m \u001b[49m\u001b[43minitial_epoch\u001b[49m,\n\u001b[1;32m   1157\u001b[0m     sample_weights\u001b[38;5;241m=\u001b[39msample_weight,\n\u001b[1;32m   1158\u001b[0m     shuffle\u001b[38;5;241m=\u001b[39mshuffle,\n\u001b[1;32m   1159\u001b[0m     max_queue_size\u001b[38;5;241m=\u001b[39mmax_queue_size,\n\u001b[1;32m   1160\u001b[0m     workers\u001b[38;5;241m=\u001b[39mworkers,\n\u001b[1;32m   1161\u001b[0m     use_multiprocessing\u001b[38;5;241m=\u001b[39muse_multiprocessing,\n\u001b[1;32m   1162\u001b[0m     distribution_strategy\u001b[38;5;241m=\u001b[39mtf\u001b[38;5;241m.\u001b[39mdistribute\u001b[38;5;241m.\u001b[39mget_strategy(),\n\u001b[1;32m   1163\u001b[0m     model\u001b[38;5;241m=\u001b[39mmodel)\n\u001b[1;32m   1165\u001b[0m strategy \u001b[38;5;241m=\u001b[39m tf\u001b[38;5;241m.\u001b[39mdistribute\u001b[38;5;241m.\u001b[39mget_strategy()\n\u001b[1;32m   1167\u001b[0m \u001b[38;5;28mself\u001b[39m\u001b[38;5;241m.\u001b[39m_current_step \u001b[38;5;241m=\u001b[39m \u001b[38;5;241m0\u001b[39m\n",
      "\u001b[0;31mTypeError\u001b[0m: unsupported operand type(s) for -: 'range' and 'int'"
     ]
    }
   ],
   "source": [
    "history = model.fit(train_X, train_label, batch_size=batch_size,epochs=epochs,verbose=1,validation_data=(valid_X, valid_label))\n",
    "\n",
    "# Se guarda el modelo\n",
    "model.save(\"modelCombinadas-BASE.h5\")"
   ]
  },
  {
   "cell_type": "markdown",
   "id": "396b9a4f-b1f0-4a3d-a898-342530c9e591",
   "metadata": {},
   "source": [
    "## 9. Análisis de métricas de rendimiento"
   ]
  },
  {
   "cell_type": "code",
   "execution_count": 10,
   "id": "cac187c9-b063-49a2-bd27-1de52409fc2d",
   "metadata": {
    "tags": []
   },
   "outputs": [
    {
     "name": "stdout",
     "output_type": "stream",
     "text": [
      "3/3 [==============================] - 0s 42ms/step\n"
     ]
    },
    {
     "data": {
      "text/plain": [
       "1.0"
      ]
     },
     "execution_count": 10,
     "metadata": {},
     "output_type": "execute_result"
    }
   ],
   "source": [
    "y_pred = model.predict(test_X)\n",
    "y_pred.shape\n",
    "test_Y.shape\n",
    "y_pred[0,:].sum()"
   ]
  },
  {
   "cell_type": "markdown",
   "id": "9a15426a-d2dd-470d-9add-8dd57049ac75",
   "metadata": {},
   "source": [
    "## 10. Resultados obtenidos"
   ]
  },
  {
   "cell_type": "code",
   "execution_count": 27,
   "id": "92ad187b-82e1-45cb-865a-658eb95ee448",
   "metadata": {},
   "outputs": [
    {
     "name": "stdout",
     "output_type": "stream",
     "text": [
      "3/3 [==============================] - 0s 37ms/step - loss: 0.2928 - accuracy: 0.8784 - f1_metric: 0.8833\n",
      "Test loss: 0.2928377091884613\n",
      "Test accuracy: 0.8783783912658691\n",
      "Test F1: 0.8833332657814026\n"
     ]
    }
   ],
   "source": [
    "test_eval = model.evaluate(test_X, test_Y_one_hot, verbose=1)\n",
    "\n",
    "print('Test loss:', test_eval[0])\n",
    "print('Test accuracy:', test_eval[1])\n",
    "print('Test F1:', test_eval[2])"
   ]
  },
  {
   "cell_type": "markdown",
   "id": "e1283259-6707-4c3e-be7f-518d9aa4549d",
   "metadata": {},
   "source": [
    "## 11. Gráficos"
   ]
  },
  {
   "cell_type": "code",
   "execution_count": 28,
   "id": "2f1eb109-5b7b-480e-9c8a-81b1d5fdd247",
   "metadata": {},
   "outputs": [
    {
     "data": {
      "image/png": "[encoded data removed]",
      "text/plain": [
       "<Figure size 432x288 with 1 Axes>"
      ]
     },
     "metadata": {
      "needs_background": "light"
     },
     "output_type": "display_data"
    },
    {
     "data": {
      "image/png": "[encoded data removed]",
      "text/plain": [
       "<Figure size 432x288 with 1 Axes>"
      ]
     },
     "metadata": {
      "needs_background": "light"
     },
     "output_type": "display_data"
    },
    {
     "data": {
      "image/png": "[encoded data removed]",
      "text/plain": [
       "<Figure size 432x288 with 1 Axes>"
      ]
     },
     "metadata": {
      "needs_background": "light"
     },
     "output_type": "display_data"
    }
   ],
   "source": [
    "acc = history.history['accuracy']\n",
    "val_acc = history.history['val_accuracy']\n",
    "\n",
    "loss = history.history['loss']\n",
    "val_loss = history.history['val_loss']\n",
    "\n",
    "f1 = history.history['f1_metric']\n",
    "val_f1 = history.history['val_f1_metric']\n",
    "\n",
    "epochs = range(1, len(acc) + 1)\n",
    "\n",
    "# Accuracy de los datos de entrenamiento y datos de prueba\n",
    "plt.plot(epochs, acc, label='Training Accuracy')\n",
    "plt.plot(epochs, val_acc, label='Validation Accuracy')\n",
    "plt.legend(loc='lower right')\n",
    "plt.title('Training and Validation Accuracy')\n",
    "plt.show()\n",
    "\n",
    "# Pérdida de datos de entrenamiento y datos de prueba\n",
    "plt.plot(epochs, loss, label='Training Loss')\n",
    "plt.plot(epochs, val_loss, label='Validation Loss')\n",
    "plt.legend(loc='upper right')\n",
    "plt.title('Training and Validation Loss')\n",
    "plt.show()\n",
    "\n",
    "# F1 de los datos de entrenamiento y datos de prueba\n",
    "plt.plot(epochs, f1, 'b', label='Training f1')\n",
    "plt.plot(epochs, val_f1, 'r', label='Validation f1')\n",
    "plt.title('Training and Validation f1')\n",
    "plt.legend()\n",
    "plt.show()"
   ]
  },
  {
   "cell_type": "markdown",
   "id": "af48e3bb-5cdc-48b9-a033-f14d92d31143",
   "metadata": {
    "tags": []
   },
   "source": [
    "## 12. Matriz de confusión"
   ]
  },
  {
   "cell_type": "code",
   "execution_count": 29,
   "id": "b2a91b51-b449-4d3b-954f-f827e802c0a6",
   "metadata": {
    "tags": []
   },
   "outputs": [
    {
     "data": {
      "image/png": "[encoded data removed]",
      "text/plain": [
       "<Figure size 432x288 with 2 Axes>"
      ]
     },
     "metadata": {
      "needs_background": "light"
     },
     "output_type": "display_data"
    },
    {
     "data": {
      "text/html": [
       "<div>\n",
       "<style scoped>\n",
       "    .dataframe tbody tr th:only-of-type {\n",
       "        vertical-align: middle;\n",
       "    }\n",
       "\n",
       "    .dataframe tbody tr th {\n",
       "        vertical-align: top;\n",
       "    }\n",
       "\n",
       "    .dataframe thead th {\n",
       "        text-align: right;\n",
       "    }\n",
       "</style>\n",
       "<table border=\"1\" class=\"dataframe\">\n",
       "  <thead>\n",
       "    <tr style=\"text-align: right;\">\n",
       "      <th></th>\n",
       "      <th>0</th>\n",
       "      <th>1</th>\n",
       "      <th>accuracy</th>\n",
       "      <th>macro avg</th>\n",
       "      <th>weighted avg</th>\n",
       "    </tr>\n",
       "  </thead>\n",
       "  <tbody>\n",
       "    <tr>\n",
       "      <th>precision</th>\n",
       "      <td>0.967742</td>\n",
       "      <td>0.813953</td>\n",
       "      <td>0.878378</td>\n",
       "      <td>0.890848</td>\n",
       "      <td>0.892926</td>\n",
       "    </tr>\n",
       "    <tr>\n",
       "      <th>recall</th>\n",
       "      <td>0.789474</td>\n",
       "      <td>0.972222</td>\n",
       "      <td>0.878378</td>\n",
       "      <td>0.880848</td>\n",
       "      <td>0.878378</td>\n",
       "    </tr>\n",
       "    <tr>\n",
       "      <th>f1-score</th>\n",
       "      <td>0.869565</td>\n",
       "      <td>0.886076</td>\n",
       "      <td>0.878378</td>\n",
       "      <td>0.877821</td>\n",
       "      <td>0.877597</td>\n",
       "    </tr>\n",
       "    <tr>\n",
       "      <th>support</th>\n",
       "      <td>38.000000</td>\n",
       "      <td>36.000000</td>\n",
       "      <td>0.878378</td>\n",
       "      <td>74.000000</td>\n",
       "      <td>74.000000</td>\n",
       "    </tr>\n",
       "  </tbody>\n",
       "</table>\n",
       "</div>"
      ],
      "text/plain": [
       "                   0          1  accuracy  macro avg  weighted avg\n",
       "precision   0.967742   0.813953  0.878378   0.890848      0.892926\n",
       "recall      0.789474   0.972222  0.878378   0.880848      0.878378\n",
       "f1-score    0.869565   0.886076  0.878378   0.877821      0.877597\n",
       "support    38.000000  36.000000  0.878378  74.000000     74.000000"
      ]
     },
     "metadata": {},
     "output_type": "display_data"
    },
    {
     "data": {
      "text/plain": [
       "array([[8.5212582e-01, 1.4787415e-01],\n",
       "       [9.9997687e-01, 2.3107303e-05],\n",
       "       [1.8319525e-02, 9.8168051e-01],\n",
       "       [9.6211126e-03, 9.9037886e-01],\n",
       "       [9.9714988e-01, 2.8501523e-03],\n",
       "       [9.7722089e-01, 2.2779129e-02],\n",
       "       [1.3372353e-01, 8.6627644e-01],\n",
       "       [2.0156702e-02, 9.7984332e-01],\n",
       "       [1.0000000e+00, 3.5201493e-14],\n",
       "       [6.7742117e-02, 9.3225783e-01],\n",
       "       [2.0357147e-01, 7.9642850e-01],\n",
       "       [1.4023229e-01, 8.5976768e-01],\n",
       "       [9.9231517e-01, 7.6847998e-03],\n",
       "       [5.3426415e-02, 9.4657362e-01],\n",
       "       [3.8519552e-01, 6.1480445e-01],\n",
       "       [9.9941504e-01, 5.8494532e-04],\n",
       "       [9.9861097e-01, 1.3889875e-03],\n",
       "       [8.6931735e-01, 1.3068269e-01],\n",
       "       [9.0790853e-02, 9.0920913e-01],\n",
       "       [9.9998212e-01, 1.7907534e-05],\n",
       "       [1.5355144e-02, 9.8464483e-01],\n",
       "       [2.8630066e-01, 7.1369934e-01],\n",
       "       [5.3384191e-01, 4.6615812e-01],\n",
       "       [7.7822410e-02, 9.2217761e-01],\n",
       "       [9.9999738e-01, 2.6124815e-06],\n",
       "       [7.0210576e-01, 2.9789427e-01],\n",
       "       [6.0577013e-02, 9.3942302e-01],\n",
       "       [2.6462403e-01, 7.3537600e-01],\n",
       "       [7.0943065e-02, 9.2905688e-01],\n",
       "       [9.9999690e-01, 3.0624276e-06],\n",
       "       [9.6591049e-01, 3.4089494e-02],\n",
       "       [9.9981147e-01, 1.8856737e-04],\n",
       "       [9.9999714e-01, 2.9186774e-06],\n",
       "       [3.4493443e-01, 6.5506560e-01],\n",
       "       [4.4158671e-02, 9.5584136e-01],\n",
       "       [4.0035389e-02, 9.5996463e-01],\n",
       "       [1.0000000e+00, 2.2982180e-23],\n",
       "       [3.1527027e-01, 6.8472975e-01],\n",
       "       [4.8618042e-01, 5.1381958e-01],\n",
       "       [9.9972802e-01, 2.7197669e-04],\n",
       "       [1.1231389e-02, 9.8876858e-01],\n",
       "       [4.0981382e-01, 5.9018618e-01],\n",
       "       [1.0000000e+00, 1.9512508e-11],\n",
       "       [1.0204693e-01, 8.9795309e-01],\n",
       "       [1.7533879e-01, 8.2466120e-01],\n",
       "       [3.3293405e-01, 6.6706598e-01],\n",
       "       [2.6734030e-01, 7.3265970e-01],\n",
       "       [8.6894352e-03, 9.9131060e-01],\n",
       "       [9.9999845e-01, 1.5084368e-06],\n",
       "       [7.5465053e-02, 9.2453498e-01],\n",
       "       [9.9960154e-01, 3.9849069e-04],\n",
       "       [9.9997091e-01, 2.9097091e-05],\n",
       "       [8.0496955e-01, 1.9503039e-01],\n",
       "       [2.2215188e-01, 7.7784812e-01],\n",
       "       [9.8738086e-01, 1.2619186e-02],\n",
       "       [4.9068812e-01, 5.0931185e-01],\n",
       "       [2.0786814e-01, 7.9213184e-01],\n",
       "       [9.9553865e-01, 4.4613094e-03],\n",
       "       [9.7732931e-01, 2.2670716e-02],\n",
       "       [4.4253260e-02, 9.5574671e-01],\n",
       "       [1.9883570e-01, 8.0116433e-01],\n",
       "       [7.8129165e-02, 9.2187083e-01],\n",
       "       [2.6704723e-01, 7.3295277e-01],\n",
       "       [9.9575150e-01, 4.2485129e-03],\n",
       "       [6.2354535e-01, 3.7645462e-01],\n",
       "       [2.3952594e-01, 7.6047403e-01],\n",
       "       [2.6479837e-01, 7.3520166e-01],\n",
       "       [6.2477201e-01, 3.7522799e-01],\n",
       "       [9.7183043e-01, 2.8169541e-02],\n",
       "       [2.0332327e-01, 7.9667675e-01],\n",
       "       [2.1667796e-01, 7.8332204e-01],\n",
       "       [1.8024158e-01, 8.1975847e-01],\n",
       "       [4.0129252e-02, 9.5987076e-01],\n",
       "       [7.5727947e-02, 9.2427206e-01]], dtype=float32)"
      ]
     },
     "execution_count": 29,
     "metadata": {},
     "output_type": "execute_result"
    }
   ],
   "source": [
    "def show_metrics(y_pred,th):\n",
    "    cm = confusion_matrix(test_Y, y_pred.argmax(axis=1)>th)\n",
    "    #print(cm)\n",
    "    disp = ConfusionMatrixDisplay(confusion_matrix=cm, display_labels=[\"No Sana\", \"Sana\"])\n",
    "    disp.plot(cmap=plt.cm.Greens)\n",
    "    plt.title('Matriz de confusión del clasificador')\n",
    "    plt.xlabel('Valores predichos')\n",
    "    plt.ylabel('Valores Verdaderos')\n",
    "    plt.show()\n",
    "    d = classification_report(test_Y, y_pred.argmax(axis=1) > th,output_dict=True)\n",
    "    display(pd.DataFrame.from_dict(d))\n",
    "    return y_pred\n",
    "\n",
    "#y_pred = model.predict(test_X)\n",
    "show_metrics(y_pred,.5)"
   ]
  },
  {
   "cell_type": "markdown",
   "id": "f4de8f7f-8603-4faf-9782-ba44dc71f07d",
   "metadata": {},
   "source": [
    "## 13. Puesta a prueba del modelo"
   ]
  },
  {
   "cell_type": "code",
   "execution_count": 25,
   "id": "2ed5e2ec-f8ff-4a1d-be0e-341cb7167cf8",
   "metadata": {
    "tags": []
   },
   "outputs": [
    {
     "data": {
      "image/png": "[encoded data removed]",
      "text/plain": [
       "<Figure size 432x288 with 1 Axes>"
      ]
     },
     "metadata": {
      "needs_background": "light"
     },
     "output_type": "display_data"
    },
    {
     "name": "stdout",
     "output_type": "stream",
     "text": [
      "1/1 [==============================] - 0s 15ms/step\n",
      "['NoSana', 'Sana']\n",
      "[[0. 1.]]\n",
      "Sana\n"
     ]
    }
   ],
   "source": [
    "from tensorflow.keras.preprocessing import image\n",
    "\n",
    "#6 Hojas SANAS\n",
    "#img=image.load_img(\"FotosCombinadas/Sana/augmented_13_3722550.jpeg\",target_size=DEFAULT_IMAGE_SIZE)\n",
    "#img=image.load_img(\"../FotosCombinadas/Sana/IMG_7912.jpeg\",target_size=DEFAULT_IMAGE_SIZE)\n",
    "#img=image.load_img(\"Fotos_Pruebas/hoja_sana_palto.jpeg\",target_size=DEFAULT_IMAGE_SIZE)\n",
    "\n",
    "#6 Hojas NO SANAS\n",
    "#img=image.load_img(\"FotosCombinadas/NoSana/augmented_0_3427922.jpeg\",target_size=DEFAULT_IMAGE_SIZE)\n",
    "#img=image.load_img(\"../FotosCombinadas/NoSana/IMG_7925.jpeg\",target_size=DEFAULT_IMAGE_SIZE)\n",
    "img=image.load_img(\"Fotos_Pruebas/hoja_nosana_palto.jpeg\",target_size=DEFAULT_IMAGE_SIZE)\n",
    "\n",
    "plt.imshow(img)\n",
    "plt.show()\n",
    "\n",
    "x=image.img_to_array(img)\n",
    "x=np.expand_dims(x,axis=0)\n",
    "images=np.vstack([x])\n",
    "pred=model.predict(images,batch_size=16)\n",
    "#pred.shape\n",
    "print(etiquetas)\n",
    "print(pred)\n",
    "if pred[0][0]>0.5:\n",
    "    category=\"No Sana\"\n",
    "elif pred[0][1]>0.5:\n",
    "    category=\"Sana\"\n",
    "        \n",
    "print(category)"
   ]
  },
  {
   "cell_type": "code",
   "execution_count": null,
   "id": "88ff4f49-4dbc-45ae-ba6f-97317e12d045",
   "metadata": {},
   "outputs": [],
   "source": []
  },
  {
   "cell_type": "code",
   "execution_count": null,
   "id": "f1dafbee-9292-4e70-a86e-2cd4c46eab24",
   "metadata": {},
   "outputs": [],
   "source": []
  }
 ],
 "metadata": {
  "kernelspec": {
   "display_name": "Python 3 (ipykernel)",
   "language": "python",
   "name": "python3"
  },
  "language_info": {
   "codemirror_mode": {
    "name": "ipython",
    "version": 3
   },
   "file_extension": ".py",
   "mimetype": "text/x-python",
   "name": "python",
   "nbconvert_exporter": "python",
   "pygments_lexer": "ipython3",
   "version": "3.9.12"
  },
  "vscode": {
   "interpreter": {
    "hash": "d51ce6bd864fe5bd275665ea0e902a728b8307f66572f4fee322f1714350284c"
   }
  }
 },
 "nbformat": 4,
 "nbformat_minor": 5
}
