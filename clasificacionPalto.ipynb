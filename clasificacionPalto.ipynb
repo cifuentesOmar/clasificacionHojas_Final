{
 "cells": [
  {
   "cell_type": "markdown",
   "id": "97e46d7a",
   "metadata": {
    "tags": []
   },
   "source": [
    "## 1. Importación de librerias\n",
    "_____"
   ]
  },
  {
   "cell_type": "code",
   "execution_count": 1,
   "id": "1df5871c",
   "metadata": {
    "tags": []
   },
   "outputs": [],
   "source": [
    "import numpy as np\n",
    "import pickle\n",
    "import cv2\n",
    "import tensorflow as tf \n",
    "import matplotlib.pyplot as plt\n",
    "from sklearn.preprocessing import LabelBinarizer\n",
    "from keras.models import Sequential, Model\n",
    "from tensorflow.keras.layers import Dense\n",
    "from tensorflow.python.keras.layers import deserialize, serialize\n",
    "from tensorflow.python.keras.saving import saving_utils\n",
    "from tensorflow.keras.layers import BatchNormalization\n",
    "from keras.layers.convolutional import Conv2D\n",
    "from keras.layers.convolutional import MaxPooling2D\n",
    "from keras.layers.core import Activation, Flatten, Dropout, Dense\n",
    "from keras import backend as K\n",
    "from keras.preprocessing.image import ImageDataGenerator\n",
    "from keras.optimizers import Adam\n",
    "from keras.preprocessing import image\n",
    "from tensorflow.keras.utils import img_to_array\n",
    "from sklearn.preprocessing import MultiLabelBinarizer\n",
    "from sklearn.model_selection import train_test_split\n",
    "from sklearn.metrics import f1_score, precision_score, recall_score, confusion_matrix, plot_confusion_matrix\n",
    "import os \n",
    "from os import listdir"
   ]
  },
  {
   "cell_type": "markdown",
   "id": "001643c1",
   "metadata": {
    "tags": []
   },
   "source": [
    "## 2. Cargar set de Imágenes\n",
    "_____"
   ]
  },
  {
   "cell_type": "code",
   "execution_count": 2,
   "id": "aea92e02-ba49-4854-bf14-3f243c98c108",
   "metadata": {},
   "outputs": [],
   "source": [
    "# Dimensiones de las imágenes\n",
    "DEFAULT_IMAGE_SIZE = tuple((256, 256))\n",
    "\n",
    "# Número de imagenes a utilizar\n",
    "N_IMAGES = 281\n",
    "\n",
    "# Ruta de carpeta de imágenes\n",
    "root_dir = 'Fotos'\n",
    "\n",
    "#train_dir = os.path.join(root_dir, 'train')\n",
    "#val_dir = os.path.join(root_dir, 'val')\n",
    "\n",
    "#train_dir = 'Fotos'\n",
    "#val_dir = 'Fotos'\n"
   ]
  },
  {
   "cell_type": "markdown",
   "id": "8cfcf112-dc8e-447b-adf1-8abec9a3a306",
   "metadata": {
    "tags": []
   },
   "source": [
    "## 3. Convertir images en arreglos\n",
    "_____"
   ]
  },
  {
   "cell_type": "code",
   "execution_count": 3,
   "id": "0c249c8d-3154-4e9b-9128-6a7b266e039b",
   "metadata": {},
   "outputs": [],
   "source": [
    "def convert_image_to_array(image_dir):\n",
    "    try:\n",
    "        image = cv2.imread(image_dir)\n",
    "        if image is not None :\n",
    "            image = cv2.resize(image, DEFAULT_IMAGE_SIZE)   \n",
    "            return img_to_array(image)\n",
    "        else :\n",
    "            return np.array([])\n",
    "    except Exception as e:\n",
    "        print(f\"Error : {e}\")\n",
    "        return None"
   ]
  },
  {
   "cell_type": "markdown",
   "id": "2c4e676b-fa4a-441a-814a-9a3efba8f544",
   "metadata": {
    "tags": []
   },
   "source": [
    "## 4. Procesamiento de imágenes\n",
    "-----\n",
    "1. Identifación de carpetas \n",
    "2. Identificación de imágenes"
   ]
  },
  {
   "cell_type": "code",
   "execution_count": 4,
   "id": "d4906060-24b1-404d-af6f-c375badb62b6",
   "metadata": {},
   "outputs": [
    {
     "name": "stdout",
     "output_type": "stream",
     "text": [
      "[INFO] Procesamiento de imágenes...\n",
      "[INFO] Identificación de carpetas noSana...\n",
      "[INFO] Identificación de carpetas otra...\n",
      "[INFO] Identificación de carpetas sana...\n",
      "[INFO] Procesamiento de imagenes exitoso.\n",
      "Cantidad de imágenes: 281\n"
     ]
    }
   ],
   "source": [
    "image_list, label_list = [], []\n",
    "\n",
    "try:\n",
    "    print(\"[INFO] Procesamiento de imágenes...\")\n",
    "    plant_disease_folder_list = listdir(root_dir)\n",
    "    \n",
    "    for plant_disease_folder in plant_disease_folder_list:\n",
    "        print(f\"[INFO] Identificación de carpetas {plant_disease_folder}...\")\n",
    "        \n",
    "        if(plant_disease_folder != \".DS_Store\"):\n",
    "            plant_disease_image_list = listdir(f\"{root_dir}/{plant_disease_folder}/\")\n",
    "            for image in plant_disease_image_list[:N_IMAGES]:\n",
    "                image_directory = f\"{root_dir}/{plant_disease_folder}/{image}\"\n",
    "                if image_directory.endswith(\".jpeg\")==True or image_directory.endswith(\".JPG\")==True:\n",
    "                    image_list.append(convert_image_to_array(image_directory))\n",
    "                    label_list.append(plant_disease_folder)\n",
    "\n",
    "    print(\"[INFO] Procesamiento de imagenes exitoso.\")  \n",
    "except Exception as e:\n",
    "    print(f\"Error : {e}\")\n",
    "    \n",
    "# Transformación de las imágenes de entrenamiento, cargados en una matriz numpy\n",
    "np_image_list = np.array(image_list, dtype=np.float16) / 225\n",
    "\n",
    "# Comprobar del número de imágenes cargadas para el entrenamiento\n",
    "image_len = len(image_list)\n",
    "print(f\"Cantidad de imágenes: {image_len}\")"
   ]
  },
  {
   "cell_type": "markdown",
   "id": "32be7fd1-8c31-4424-9b82-6049e1e47db6",
   "metadata": {
    "tags": []
   },
   "source": [
    "## 5. Etiquetado\n",
    "-----\n",
    "1. Identifación de clases\n",
    "2. Binarización de etiquetas"
   ]
  },
  {
   "cell_type": "code",
   "execution_count": 5,
   "id": "50c3fb2d-e86a-428e-a612-dec199fe554f",
   "metadata": {},
   "outputs": [
    {
     "name": "stdout",
     "output_type": "stream",
     "text": [
      "Número de clases de imágenes:  3\n"
     ]
    }
   ],
   "source": [
    "label_binarizer = LabelBinarizer()\n",
    "image_labels = label_binarizer.fit_transform(label_list)\n",
    "\n",
    "pickle.dump(label_binarizer,open('plant_disease_label_transform.pkl', 'wb'))\n",
    "\n",
    "n_classes = len(label_binarizer.classes_)\n",
    "\n",
    "print(\"Número de clases de imágenes: \", n_classes)"
   ]
  },
  {
   "cell_type": "markdown",
   "id": "dc3bc5bb-d1d2-4aca-9c17-7ad868e49f39",
   "metadata": {
    "tags": []
   },
   "source": [
    "## 6. Aumento de datos\n",
    "-----"
   ]
  },
  {
   "cell_type": "code",
   "execution_count": 6,
   "id": "669225ab-c67c-42f2-9e98-5c236def056f",
   "metadata": {},
   "outputs": [],
   "source": [
    "#augment = ImageDataGenerator(rotation_range=25, width_shift_range=0.1,\n",
    "#                              height_shift_range=0.1, shear_range=0.2, \n",
    "#                              zoom_range=0.2, horizontal_flip=True, \n",
    "#                              fill_mode=\"nearest\")\n",
    "    \n",
    "#augment = ImageDataGenerator()\n",
    "\n",
    "# img_dir_path = \"Fotos/no_sana\"\n",
    "# save_dir_path = \"Fotos/train\"\n",
    "\n",
    "# train_generator = augment.flow_from_directory(\n",
    "#     img_dir_path, \n",
    "#     target_size=(128, 128), \n",
    "#     color_mode=\"rgb\", \n",
    "#     batch_size=20, \n",
    "#     save_to_dir=\"Respaldo\", \n",
    "#     class_mode=\"binary\", \n",
    "#     save_prefix=\"augmented\", \n",
    "#     save_format=\"png\")\n",
    "\n",
    "# for i in range(10):\n",
    "#     train_generator.next()"
   ]
  },
  {
   "cell_type": "code",
   "execution_count": 7,
   "id": "ec7ffab8-3d00-44fa-b09d-c7c9fafeca0a",
   "metadata": {},
   "outputs": [
    {
     "name": "stdout",
     "output_type": "stream",
     "text": [
      "[INFO] Dividir el conjunto de datos en datos de entrenamiento y datos de prueba...\n"
     ]
    }
   ],
   "source": [
    "print(\"[INFO] Dividir el conjunto de datos en datos de entrenamiento y datos de prueba...\")\n",
    "x_train, x_test, y_train, y_test = train_test_split(np_image_list, image_labels, test_size=0.2, random_state=45)"
   ]
  },
  {
   "cell_type": "code",
   "execution_count": 8,
   "id": "5a5b3096-ac42-4ba3-8b66-89bb32c71ff2",
   "metadata": {},
   "outputs": [],
   "source": [
    "# Establecer parámetros para el modelo\n",
    "EPOCHS = 20\n",
    "STEPS = 18\n",
    "LR = 1e-3\n",
    "BATCH_SIZE = 16\n",
    "WIDTH = 256\n",
    "HEIGHT = 256\n",
    "DEPTH = 3"
   ]
  },
  {
   "cell_type": "markdown",
   "id": "3d6376af",
   "metadata": {
    "tags": []
   },
   "source": [
    "## 7. CREAR ARQUITECTURA\n",
    "-----"
   ]
  },
  {
   "cell_type": "code",
   "execution_count": 9,
   "id": "51cb957b-4691-4827-a424-1f3c80389489",
   "metadata": {},
   "outputs": [
    {
     "name": "stdout",
     "output_type": "stream",
     "text": [
      "Model: \"sequential\"\n",
      "_________________________________________________________________\n",
      " Layer (type)                Output Shape              Param #   \n",
      "=================================================================\n",
      " conv2d (Conv2D)             (None, 256, 256, 32)      896       \n",
      "                                                                 \n",
      " activation (Activation)     (None, 256, 256, 32)      0         \n",
      "                                                                 \n",
      " batch_normalization (BatchN  (None, 256, 256, 32)     128       \n",
      " ormalization)                                                   \n",
      "                                                                 \n",
      " max_pooling2d (MaxPooling2D  (None, 85, 85, 32)       0         \n",
      " )                                                               \n",
      "                                                                 \n",
      " dropout (Dropout)           (None, 85, 85, 32)        0         \n",
      "                                                                 \n",
      " conv2d_1 (Conv2D)           (None, 85, 85, 64)        18496     \n",
      "                                                                 \n",
      " activation_1 (Activation)   (None, 85, 85, 64)        0         \n",
      "                                                                 \n",
      " batch_normalization_1 (Batc  (None, 85, 85, 64)       256       \n",
      " hNormalization)                                                 \n",
      "                                                                 \n",
      " conv2d_2 (Conv2D)           (None, 85, 85, 64)        36928     \n",
      "                                                                 \n",
      " activation_2 (Activation)   (None, 85, 85, 64)        0         \n",
      "                                                                 \n",
      " batch_normalization_2 (Batc  (None, 85, 85, 64)       256       \n",
      " hNormalization)                                                 \n",
      "                                                                 \n",
      " max_pooling2d_1 (MaxPooling  (None, 42, 42, 64)       0         \n",
      " 2D)                                                             \n",
      "                                                                 \n",
      " dropout_1 (Dropout)         (None, 42, 42, 64)        0         \n",
      "                                                                 \n",
      " conv2d_3 (Conv2D)           (None, 42, 42, 128)       73856     \n",
      "                                                                 \n",
      " activation_3 (Activation)   (None, 42, 42, 128)       0         \n",
      "                                                                 \n",
      " batch_normalization_3 (Batc  (None, 42, 42, 128)      512       \n",
      " hNormalization)                                                 \n",
      "                                                                 \n",
      " conv2d_4 (Conv2D)           (None, 42, 42, 128)       147584    \n",
      "                                                                 \n",
      " activation_4 (Activation)   (None, 42, 42, 128)       0         \n",
      "                                                                 \n",
      " batch_normalization_4 (Batc  (None, 42, 42, 128)      512       \n",
      " hNormalization)                                                 \n",
      "                                                                 \n",
      " max_pooling2d_2 (MaxPooling  (None, 21, 21, 128)      0         \n",
      " 2D)                                                             \n",
      "                                                                 \n",
      " dropout_2 (Dropout)         (None, 21, 21, 128)       0         \n",
      "                                                                 \n",
      " flatten (Flatten)           (None, 56448)             0         \n",
      "                                                                 \n",
      " dense (Dense)               (None, 1024)              57803776  \n",
      "                                                                 \n",
      " activation_5 (Activation)   (None, 1024)              0         \n",
      "                                                                 \n",
      " batch_normalization_5 (Batc  (None, 1024)             4096      \n",
      " hNormalization)                                                 \n",
      "                                                                 \n",
      " dropout_3 (Dropout)         (None, 1024)              0         \n",
      "                                                                 \n",
      " dense_1 (Dense)             (None, 3)                 3075      \n",
      "                                                                 \n",
      " activation_6 (Activation)   (None, 3)                 0         \n",
      "                                                                 \n",
      "=================================================================\n",
      "Total params: 58,090,371\n",
      "Trainable params: 58,087,491\n",
      "Non-trainable params: 2,880\n",
      "_________________________________________________________________\n"
     ]
    }
   ],
   "source": [
    "model = Sequential()\n",
    "inputShape = (HEIGHT, WIDTH, DEPTH)\n",
    "chanDim = -1\n",
    "\n",
    "if K.image_data_format() == \"channels_first\":\n",
    "    inputShape = (DEPTH, HEIGHT, WIDTH)\n",
    "    chanDim = 1\n",
    "\n",
    "model.add(Conv2D(32, (3, 3), padding=\"same\",input_shape=inputShape))\n",
    "model.add(Activation(\"relu\"))\n",
    "model.add(BatchNormalization(axis=chanDim))\n",
    "model.add(MaxPooling2D(pool_size=(3, 3)))\n",
    "model.add(Dropout(0.5))\n",
    "\n",
    "model.add(Conv2D(64, (3, 3), padding=\"same\"))\n",
    "model.add(Activation(\"relu\"))\n",
    "model.add(BatchNormalization(axis=chanDim))\n",
    "\n",
    "model.add(Conv2D(64, (3, 3), padding=\"same\"))\n",
    "model.add(Activation(\"relu\"))\n",
    "model.add(BatchNormalization(axis=chanDim))\n",
    "model.add(MaxPooling2D(pool_size=(2, 2)))\n",
    "model.add(Dropout(0.5))\n",
    "\n",
    "model.add(Conv2D(128, (3, 3), padding=\"same\"))\n",
    "model.add(Activation(\"relu\"))\n",
    "model.add(BatchNormalization(axis=chanDim))\n",
    "\n",
    "model.add(Conv2D(128, (3, 3), padding=\"same\"))\n",
    "model.add(Activation(\"relu\"))\n",
    "model.add(BatchNormalization(axis=chanDim))\n",
    "model.add(MaxPooling2D(pool_size=(2, 2)))\n",
    "model.add(Dropout(0.5))\n",
    "model.add(Flatten())\n",
    "model.add(Dense(1024))\n",
    "model.add(Activation(\"relu\"))\n",
    "model.add(BatchNormalization())\n",
    "model.add(Dropout(0.5))\n",
    "model.add(Dense(n_classes))\n",
    "model.add(Activation(\"softmax\"))\n",
    "\n",
    "# Comprobar arquitectura\n",
    "model.summary()"
   ]
  },
  {
   "cell_type": "code",
   "execution_count": 10,
   "id": "23825815-5d7c-4b97-a23f-50c3978f1711",
   "metadata": {},
   "outputs": [
    {
     "name": "stdout",
     "output_type": "stream",
     "text": [
      "[INFO] Entrenando al modelo...\n",
      "Epoch 1/20\n",
      "14/14 [==============================] - 34s 2s/step - loss: 0.8660 - accuracy: 0.6205 - precision: 0.6341 - recall: 0.5804 - f1_metric: 0.6026 - val_loss: 0.4232 - val_accuracy: 0.7368 - val_precision: 0.7547 - val_recall: 0.7018 - val_f1_metric: 0.7401\n",
      "Epoch 2/20\n",
      "14/14 [==============================] - 32s 2s/step - loss: 0.5443 - accuracy: 0.7768 - precision: 0.8019 - recall: 0.7589 - f1_metric: 0.7796 - val_loss: 0.5549 - val_accuracy: 0.5614 - val_precision: 0.5536 - val_recall: 0.5439 - val_f1_metric: 0.5259\n",
      "Epoch 3/20\n",
      "14/14 [==============================] - 32s 2s/step - loss: 0.3998 - accuracy: 0.8616 - precision: 0.8807 - recall: 0.8571 - f1_metric: 0.8675 - val_loss: 1.0312 - val_accuracy: 0.5088 - val_precision: 0.5088 - val_recall: 0.5088 - val_f1_metric: 0.4896\n",
      "Epoch 4/20\n",
      "14/14 [==============================] - 32s 2s/step - loss: 0.3094 - accuracy: 0.8661 - precision: 0.8802 - recall: 0.8527 - f1_metric: 0.8661 - val_loss: 1.2730 - val_accuracy: 0.5088 - val_precision: 0.5088 - val_recall: 0.5088 - val_f1_metric: 0.4896\n",
      "Epoch 5/20\n",
      "14/14 [==============================] - 31s 2s/step - loss: 0.2062 - accuracy: 0.9241 - precision: 0.9269 - recall: 0.9062 - f1_metric: 0.9161 - val_loss: 1.7799 - val_accuracy: 0.5088 - val_precision: 0.5088 - val_recall: 0.5088 - val_f1_metric: 0.4896\n",
      "Epoch 6/20\n",
      "14/14 [==============================] - 32s 2s/step - loss: 0.1848 - accuracy: 0.9152 - precision: 0.9152 - recall: 0.9152 - f1_metric: 0.9152 - val_loss: 1.8844 - val_accuracy: 0.5088 - val_precision: 0.5088 - val_recall: 0.5088 - val_f1_metric: 0.4896\n",
      "Epoch 7/20\n",
      "14/14 [==============================] - 31s 2s/step - loss: 0.1512 - accuracy: 0.9286 - precision: 0.9455 - recall: 0.9286 - f1_metric: 0.9366 - val_loss: 0.9602 - val_accuracy: 0.4737 - val_precision: 0.4737 - val_recall: 0.4737 - val_f1_metric: 0.4948\n",
      "Epoch 8/20\n",
      "14/14 [==============================] - 30s 2s/step - loss: 0.1728 - accuracy: 0.9152 - precision: 0.9152 - recall: 0.9152 - f1_metric: 0.9152 - val_loss: 0.5700 - val_accuracy: 0.6316 - val_precision: 0.6316 - val_recall: 0.6316 - val_f1_metric: 0.6476\n",
      "Epoch 9/20\n",
      "14/14 [==============================] - 30s 2s/step - loss: 0.1588 - accuracy: 0.9152 - precision: 0.9152 - recall: 0.9152 - f1_metric: 0.9152 - val_loss: 0.8294 - val_accuracy: 0.7719 - val_precision: 0.7719 - val_recall: 0.7719 - val_f1_metric: 0.7969\n",
      "Epoch 10/20\n",
      "14/14 [==============================] - 29s 2s/step - loss: 0.0791 - accuracy: 0.9732 - precision: 0.9776 - recall: 0.9732 - f1_metric: 0.9752 - val_loss: 0.6669 - val_accuracy: 0.6842 - val_precision: 0.6842 - val_recall: 0.6842 - val_f1_metric: 0.6944\n",
      "Epoch 11/20\n",
      "14/14 [==============================] - 32s 2s/step - loss: 0.0933 - accuracy: 0.9554 - precision: 0.9554 - recall: 0.9554 - f1_metric: 0.9554 - val_loss: 1.0782 - val_accuracy: 0.5614 - val_precision: 0.5614 - val_recall: 0.5614 - val_f1_metric: 0.5851\n",
      "Epoch 12/20\n",
      "14/14 [==============================] - 31s 2s/step - loss: 0.0954 - accuracy: 0.9554 - precision: 0.9554 - recall: 0.9554 - f1_metric: 0.9554 - val_loss: 1.5423 - val_accuracy: 0.6842 - val_precision: 0.6842 - val_recall: 0.6842 - val_f1_metric: 0.7066\n",
      "Epoch 13/20\n",
      "14/14 [==============================] - 30s 2s/step - loss: 0.0788 - accuracy: 0.9688 - precision: 0.9686 - recall: 0.9643 - f1_metric: 0.9663 - val_loss: 0.9033 - val_accuracy: 0.6667 - val_precision: 0.6667 - val_recall: 0.6667 - val_f1_metric: 0.6788\n",
      "Epoch 14/20\n",
      "14/14 [==============================] - 31s 2s/step - loss: 0.0551 - accuracy: 0.9777 - precision: 0.9777 - recall: 0.9777 - f1_metric: 0.9777 - val_loss: 1.6937 - val_accuracy: 0.6667 - val_precision: 0.6667 - val_recall: 0.6667 - val_f1_metric: 0.6910\n",
      "Epoch 15/20\n",
      "14/14 [==============================] - 30s 2s/step - loss: 0.0595 - accuracy: 0.9732 - precision: 0.9732 - recall: 0.9732 - f1_metric: 0.9732 - val_loss: 1.6809 - val_accuracy: 0.7544 - val_precision: 0.7544 - val_recall: 0.7544 - val_f1_metric: 0.7569\n",
      "Epoch 16/20\n",
      "14/14 [==============================] - 34s 2s/step - loss: 0.0653 - accuracy: 0.9732 - precision: 0.9732 - recall: 0.9732 - f1_metric: 0.9732 - val_loss: 1.4311 - val_accuracy: 0.5965 - val_precision: 0.5965 - val_recall: 0.5965 - val_f1_metric: 0.6163\n",
      "Epoch 17/20\n",
      "14/14 [==============================] - 31s 2s/step - loss: 0.0505 - accuracy: 0.9688 - precision: 0.9688 - recall: 0.9688 - f1_metric: 0.9688 - val_loss: 2.0359 - val_accuracy: 0.5789 - val_precision: 0.5789 - val_recall: 0.5789 - val_f1_metric: 0.6007\n",
      "Epoch 18/20\n",
      "14/14 [==============================] - 30s 2s/step - loss: 0.0301 - accuracy: 0.9911 - precision: 0.9911 - recall: 0.9911 - f1_metric: 0.9911 - val_loss: 0.9259 - val_accuracy: 0.6842 - val_precision: 0.6842 - val_recall: 0.6842 - val_f1_metric: 0.7066\n",
      "Epoch 19/20\n",
      "14/14 [==============================] - 30s 2s/step - loss: 0.0291 - accuracy: 0.9866 - precision: 0.9866 - recall: 0.9866 - f1_metric: 0.9866 - val_loss: 1.2252 - val_accuracy: 0.6842 - val_precision: 0.6842 - val_recall: 0.6842 - val_f1_metric: 0.6944\n",
      "Epoch 20/20\n",
      "14/14 [==============================] - 30s 2s/step - loss: 0.0374 - accuracy: 0.9866 - precision: 0.9866 - recall: 0.9866 - f1_metric: 0.9866 - val_loss: 1.0865 - val_accuracy: 0.8070 - val_precision: 0.8070 - val_recall: 0.8070 - val_f1_metric: 0.8160\n"
     ]
    }
   ],
   "source": [
    "import keras.backend as K\n",
    "\n",
    "def f1_metric(y_true, y_pred):\n",
    "    true_positives = K.sum(K.round(K.clip(y_true * y_pred, 0, 1)))\n",
    "    possible_positives = K.sum(K.round(K.clip(y_true, 0, 1)))\n",
    "    predicted_positives = K.sum(K.round(K.clip(y_pred, 0, 1)))\n",
    "    precision = true_positives / (predicted_positives + K.epsilon())\n",
    "    recall = true_positives / (possible_positives + K.epsilon())\n",
    "    f1_val = 2*(precision*recall)/(precision+recall+K.epsilon())\n",
    "    return f1_val\n",
    "\n",
    "# Activar el optimizador\n",
    "opt = Adam(learning_rate=LR, decay=LR/EPOCHS)\n",
    "\n",
    "# Compilar el modelo\n",
    "model.compile(loss=\"binary_crossentropy\", optimizer=opt, metrics=[\"accuracy\", tf.keras.metrics.Precision(), tf.keras.metrics.Recall(), f1_metric])\n",
    "\n",
    "# Entrenar el modelo\n",
    "print(\"[INFO] Entrenando al modelo...\")\n",
    "#history = model.fit(augment.flow(x_train, y_train, batch_size=BATCH_SIZE),\n",
    "history = model.fit(x_train, y_train, batch_size=BATCH_SIZE,\n",
    "                    validation_data=(x_test, y_test),\n",
    "                    steps_per_epoch=len(x_train) / BATCH_SIZE,\n",
    "                    epochs=EPOCHS, verbose=1)"
   ]
  },
  {
   "cell_type": "code",
   "execution_count": 12,
   "id": "aed5db38-9a02-422b-be42-9e46ed4d1a79",
   "metadata": {
    "tags": []
   },
   "outputs": [
    {
     "data": {
      "image/png": "[encoded data removed]",
      "text/plain": [
       "<Figure size 432x288 with 1 Axes>"
      ]
     },
     "metadata": {
      "needs_background": "light"
     },
     "output_type": "display_data"
    },
    {
     "data": {
      "image/png": "[encoded data removed]",
      "text/plain": [
       "<Figure size 432x288 with 1 Axes>"
      ]
     },
     "metadata": {
      "needs_background": "light"
     },
     "output_type": "display_data"
    },
    {
     "data": {
      "image/png": "[encoded data removed]",
      "text/plain": [
       "<Figure size 432x288 with 1 Axes>"
      ]
     },
     "metadata": {
      "needs_background": "light"
     },
     "output_type": "display_data"
    },
    {
     "data": {
      "image/png": "[encoded data removed]",
      "text/plain": [
       "<Figure size 432x288 with 1 Axes>"
      ]
     },
     "metadata": {
      "needs_background": "light"
     },
     "output_type": "display_data"
    },
    {
     "data": {
      "image/png": "[encoded data removed]",
      "text/plain": [
       "<Figure size 432x288 with 1 Axes>"
      ]
     },
     "metadata": {
      "needs_background": "light"
     },
     "output_type": "display_data"
    }
   ],
   "source": [
    "# Definir variables\n",
    "\n",
    "loss = history.history['loss']\n",
    "val_loss = history.history['val_loss']\n",
    "\n",
    "acc = history.history['accuracy']\n",
    "val_acc = history.history['val_accuracy']\n",
    "\n",
    "prec = history.history['precision']\n",
    "val_prec = history.history['val_precision']\n",
    "\n",
    "recall_1 = history.history['recall']\n",
    "val_recall = history.history['val_recall']\n",
    "\n",
    "f1 = history.history['f1_metric']\n",
    "val_f1 = history.history['val_f1_metric']\n",
    "\n",
    "epochs = range(1, len(acc) + 1)\n",
    "\n",
    "\n",
    "# Pérdida de datos de entrenamiento y datos de prueba\n",
    "plt.plot(epochs, loss, 'b', label='Training loss')\n",
    "plt.plot(epochs, val_loss, 'r', label='Validation loss')\n",
    "plt.title('Training and Validation loss')\n",
    "plt.legend()\n",
    "\n",
    "plt.figure()\n",
    "\n",
    "# Precisión de los datos de entrenamiento y datos de prueba\n",
    "plt.plot(epochs, acc, 'b', label='Training accurarcy')\n",
    "plt.plot(epochs, val_acc, 'r', label='Validation accurarcy')\n",
    "plt.title('Training and Validation accurarcy')\n",
    "plt.legend()\n",
    "\n",
    "plt.figure()\n",
    "\n",
    "# Precisión de los datos de entrenamiento y datos de prueba\n",
    "plt.plot(epochs, prec, 'b', label='Training precision')\n",
    "plt.plot(epochs, val_prec, 'r', label='Validation precision')\n",
    "plt.title('Training and Validation precision')\n",
    "plt.legend()\n",
    "\n",
    "plt.figure()\n",
    "\n",
    "# Precisión de los datos de entrenamiento y datos de prueba\n",
    "plt.plot(epochs, recall_1, 'b', label='Training recall')\n",
    "plt.plot(epochs, val_recall, 'r', label='Validation recall')\n",
    "plt.title('Training and Validation recall')\n",
    "plt.legend()\n",
    "\n",
    "plt.figure()\n",
    "\n",
    "# Precisión de los datos de entrenamiento y datos de prueba\n",
    "plt.plot(epochs, f1, 'b', label='Training f1')\n",
    "plt.plot(epochs, val_f1, 'r', label='Validation f1')\n",
    "plt.title('Training and Validation f1')\n",
    "plt.legend()\n",
    "\n",
    "plt.show()"
   ]
  },
  {
   "cell_type": "code",
   "execution_count": null,
   "id": "40fc6caf-2661-47ea-a63f-47f53461d89e",
   "metadata": {},
   "outputs": [],
   "source": []
  },
  {
   "cell_type": "code",
   "execution_count": 13,
   "id": "d0a6c5f7-301e-4af7-8866-4ea29f7a78ac",
   "metadata": {},
   "outputs": [
    {
     "name": "stdout",
     "output_type": "stream",
     "text": [
      "[INFO] Calcular la precisión del modelo....\n",
      "2/2 [==============================] - 2s 1s/step - loss: 1.0865 - accuracy: 0.8070 - precision: 0.8070 - recall: 0.8070 - f1_metric: 0.8194\n",
      "Exactitud de la prueba: 80.70175647735596\n"
     ]
    }
   ],
   "source": [
    "print(\"[INFO] Calcular la precisión del modelo....\")\n",
    "scores = model.evaluate(x_test, y_test)\n",
    "print(f\"Exactitud de la prueba: {scores[1]*100}\")"
   ]
  },
  {
   "cell_type": "code",
   "execution_count": 14,
   "id": "9b2ec1e8-81ee-40ad-bb01-c1ad87daf953",
   "metadata": {},
   "outputs": [
    {
     "name": "stdout",
     "output_type": "stream",
     "text": [
      "[INFO] Guardar modelo...\n"
     ]
    }
   ],
   "source": [
    "# Guardar modelo\n",
    "print(\"[INFO] Guardar modelo...\")\n",
    "model.save('model.h5')\n",
    "#pickle.dump(model,open('cnn_model_a.pkl', 'wb'))\n"
   ]
  },
  {
   "cell_type": "code",
   "execution_count": 18,
   "id": "2d8b0e2a-9e52-4344-b276-e0d249749360",
   "metadata": {
    "tags": []
   },
   "outputs": [
    {
     "name": "stdout",
     "output_type": "stream",
     "text": [
      "1/1 [==============================] - 1s 685ms/step\n",
      "[9.999827e-01 9.501160e-06 7.721664e-06]\n",
      "0.9999827\n",
      "noSana\n"
     ]
    }
   ],
   "source": [
    "#model = tf.keras.models.load_model('model.h5')\n",
    "\n",
    "Vgg16 = tf.keras.models.load_model('model.h5', compile=False)\n",
    "Vgg16.compile(optimizer=opt, loss='categorical_crossentropy', metrics=['accuracy' \n",
    "   ,tf.keras.metrics.Precision(), tf.keras.metrics.Recall(), f1_metric])\n",
    "\n",
    "#file_object = open('cnn_model_a.pkl', 'rb')\n",
    "#model = pickle.load(file_object)\n",
    "\n",
    "imgpath='../Fotos_Pruebas/hoja_hass_noSana.jpeg'\n",
    "\n",
    "imar = convert_image_to_array(imgpath)\n",
    "np_image_list = np.array([imar], dtype=np.float16) / 255\n",
    "\n",
    "#predicted_classes = model.predict(np_image_list)\n",
    "\n",
    "predicted_classes = Vgg16.predict(np_image_list)\n",
    "\n",
    "\n",
    "#print(predicted_classes[0][2])\n",
    "#predicted_classes[0][2] = 0\n",
    "\n",
    "\n",
    "for i, img_tagged in enumerate(predicted_classes):\n",
    "    print(img_tagged)\n",
    "    print(max(img_tagged))\n",
    "    print(label_binarizer.classes_[img_tagged.tolist().index(max(img_tagged))])\n",
    "\n",
    "#print(label_binarizer.classes_[10])\n",
    "#print (label_binarizer.classes_[PREDICTED_CLASSES2])"
   ]
  },
  {
   "cell_type": "code",
   "execution_count": null,
   "id": "83e97a44-0e3f-436d-9df7-99fa8cfee0d2",
   "metadata": {},
   "outputs": [],
   "source": []
  }
 ],
 "metadata": {
  "kernelspec": {
   "display_name": "Python 3 (ipykernel)",
   "language": "python",
   "name": "python3"
  },
  "language_info": {
   "codemirror_mode": {
    "name": "ipython",
    "version": 3
   },
   "file_extension": ".py",
   "mimetype": "text/x-python",
   "name": "python",
   "nbconvert_exporter": "python",
   "pygments_lexer": "ipython3",
   "version": "3.9.7"
  }
 },
 "nbformat": 4,
 "nbformat_minor": 5
}
