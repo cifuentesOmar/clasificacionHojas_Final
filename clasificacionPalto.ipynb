{
 "cells": [
  {
   "cell_type": "markdown",
   "id": "97e46d7a",
   "metadata": {
    "tags": []
   },
   "source": [
    "## 1. Importación de librerias\n",
    "_____"
   ]
  },
  {
   "cell_type": "code",
   "execution_count": 1,
   "id": "1df5871c",
   "metadata": {},
   "outputs": [],
   "source": [
    "import numpy as np\n",
    "import pickle\n",
    "import cv2\n",
    "import tensorflow as tf \n",
    "import matplotlib.pyplot as plt\n",
    "from sklearn.preprocessing import LabelBinarizer\n",
    "from keras.models import Sequential, Model\n",
    "from tensorflow.keras.layers import Dense\n",
    "from tensorflow.python.keras.layers import deserialize, serialize\n",
    "from tensorflow.python.keras.saving import saving_utils\n",
    "from tensorflow.keras.layers import BatchNormalization\n",
    "from keras.layers.convolutional import Conv2D\n",
    "from keras.layers.convolutional import MaxPooling2D\n",
    "from keras.layers.core import Activation, Flatten, Dropout, Dense\n",
    "from keras import backend as K\n",
    "from keras.preprocessing.image import ImageDataGenerator\n",
    "from keras.optimizers import Adam\n",
    "from keras.preprocessing import image\n",
    "from tensorflow.keras.utils import img_to_array\n",
    "from sklearn.preprocessing import MultiLabelBinarizer\n",
    "from sklearn.model_selection import train_test_split\n",
    "from sklearn.metrics import f1_score, precision_score, recall_score, confusion_matrix\n",
    "import os \n",
    "from os import listdir"
   ]
  },
  {
   "cell_type": "markdown",
   "id": "001643c1",
   "metadata": {
    "tags": []
   },
   "source": [
    "## 2. Cargar set de Imágenes\n",
    "_____"
   ]
  },
  {
   "cell_type": "code",
   "execution_count": 2,
   "id": "aea92e02-ba49-4854-bf14-3f243c98c108",
   "metadata": {},
   "outputs": [],
   "source": [
    "# Dimensiones de las imágenes\n",
    "DEFAULT_IMAGE_SIZE = tuple((256, 256))\n",
    "\n",
    "# Número de imagenes a utilizar\n",
    "N_IMAGES = 281\n",
    "\n",
    "# Ruta de carpeta de imágenes\n",
    "root_dir = 'Fotos'\n",
    "\n",
    "#train_dir = os.path.join(root_dir, 'train')\n",
    "#val_dir = os.path.join(root_dir, 'val')\n",
    "\n",
    "#train_dir = 'Fotos'\n",
    "#val_dir = 'Fotos'\n"
   ]
  },
  {
   "cell_type": "markdown",
   "id": "8cfcf112-dc8e-447b-adf1-8abec9a3a306",
   "metadata": {
    "tags": []
   },
   "source": [
    "## 3. Convertir images en arreglos\n",
    "_____"
   ]
  },
  {
   "cell_type": "code",
   "execution_count": 3,
   "id": "0c249c8d-3154-4e9b-9128-6a7b266e039b",
   "metadata": {},
   "outputs": [],
   "source": [
    "def convert_image_to_array(image_dir):\n",
    "    try:\n",
    "        image = cv2.imread(image_dir)\n",
    "        if image is not None :\n",
    "            image = cv2.resize(image, DEFAULT_IMAGE_SIZE)   \n",
    "            return img_to_array(image)\n",
    "        else :\n",
    "            return np.array([])\n",
    "    except Exception as e:\n",
    "        print(f\"Error : {e}\")\n",
    "        return None"
   ]
  },
  {
   "cell_type": "markdown",
   "id": "2c4e676b-fa4a-441a-814a-9a3efba8f544",
   "metadata": {
    "tags": []
   },
   "source": [
    "## 4. Procesamiento de imágenes\n",
    "-----\n",
    "1. Identifación de carpetas \n",
    "2. Identificación de imágenes"
   ]
  },
  {
   "cell_type": "code",
   "execution_count": 4,
   "id": "d4906060-24b1-404d-af6f-c375badb62b6",
   "metadata": {},
   "outputs": [
    {
     "name": "stdout",
     "output_type": "stream",
     "text": [
      "[INFO] Procesamiento de imágenes...\n",
      "[INFO] Identificación de carpetas noSana...\n",
      "[INFO] Identificación de carpetas .DS_Store...\n",
      "[INFO] Identificación de carpetas sana...\n",
      "[INFO] Identificación de carpetas sinIdentificar...\n",
      "[INFO] Procesamiento de imagenes exitoso.\n",
      "Cantidad de imágenes: 281\n"
     ]
    }
   ],
   "source": [
    "image_list, label_list = [], []\n",
    "\n",
    "try:\n",
    "    print(\"[INFO] Procesamiento de imágenes...\")\n",
    "    plant_disease_folder_list = listdir(root_dir)\n",
    "    \n",
    "    for plant_disease_folder in plant_disease_folder_list:\n",
    "        print(f\"[INFO] Identificación de carpetas {plant_disease_folder}...\")\n",
    "        \n",
    "        if(plant_disease_folder != \".DS_Store\"):\n",
    "            plant_disease_image_list = listdir(f\"{root_dir}/{plant_disease_folder}/\")\n",
    "            for image in plant_disease_image_list[:N_IMAGES]:\n",
    "                image_directory = f\"{root_dir}/{plant_disease_folder}/{image}\"\n",
    "                if image_directory.endswith(\".jpeg\")==True or image_directory.endswith(\".JPG\")==True:\n",
    "                    image_list.append(convert_image_to_array(image_directory))\n",
    "                    label_list.append(plant_disease_folder)\n",
    "\n",
    "    print(\"[INFO] Procesamiento de imagenes exitoso.\")  \n",
    "except Exception as e:\n",
    "    print(f\"Error : {e}\")\n",
    "    \n",
    "# Transformación de las imágenes de entrenamiento, cargados en una matriz numpy\n",
    "np_image_list = np.array(image_list, dtype=np.float16) / 225.0\n",
    "\n",
    "# Comprobar del número de imágenes cargadas para el entrenamiento\n",
    "image_len = len(image_list)\n",
    "print(f\"Cantidad de imágenes: {image_len}\")"
   ]
  },
  {
   "cell_type": "markdown",
   "id": "32be7fd1-8c31-4424-9b82-6049e1e47db6",
   "metadata": {
    "tags": []
   },
   "source": [
    "## 5. Etiquetado\n",
    "-----\n",
    "1. Identifación de clases\n",
    "2. Binarización de etiquetas"
   ]
  },
  {
   "cell_type": "code",
   "execution_count": 5,
   "id": "50c3fb2d-e86a-428e-a612-dec199fe554f",
   "metadata": {},
   "outputs": [
    {
     "name": "stdout",
     "output_type": "stream",
     "text": [
      "Número de clases de imágenes:  3\n"
     ]
    }
   ],
   "source": [
    "label_binarizer = LabelBinarizer()\n",
    "image_labels = label_binarizer.fit_transform(label_list)\n",
    "\n",
    "pickle.dump(label_binarizer,open('plant_disease_label_transform.pkl', 'wb'))\n",
    "\n",
    "n_classes = len(label_binarizer.classes_)\n",
    "\n",
    "print(\"Número de clases de imágenes: \", n_classes)"
   ]
  },
  {
   "cell_type": "markdown",
   "id": "dc3bc5bb-d1d2-4aca-9c17-7ad868e49f39",
   "metadata": {
    "tags": []
   },
   "source": [
    "## 6. Tratamiento de datos\n",
    "-----\n",
    "1. El aumento de datos no fue necesario, esto debido a que se obtuvieron mejores resultados sin la necesidad de aumentar las imágenes."
   ]
  },
  {
   "cell_type": "code",
   "execution_count": null,
   "id": "669225ab-c67c-42f2-9e98-5c236def056f",
   "metadata": {},
   "outputs": [],
   "source": [
    "#augment = ImageDataGenerator(rotation_range=25, width_shift_range=0.1,\n",
    "#                              height_shift_range=0.1, shear_range=0.2, \n",
    "#                              zoom_range=0.2, horizontal_flip=True, \n",
    "#                              fill_mode=\"nearest\")\n",
    "    \n",
    "#augment = ImageDataGenerator()\n",
    "\n",
    "# img_dir_path = \"Fotos/no_sana\"\n",
    "# save_dir_path = \"Fotos/train\"\n",
    "\n",
    "# train_generator = augment.flow_from_directory(\n",
    "#     img_dir_path, \n",
    "#     target_size=(128, 128), \n",
    "#     color_mode=\"rgb\", \n",
    "#     batch_size=20, \n",
    "#     save_to_dir=\"Respaldo\", \n",
    "#     class_mode=\"binary\", \n",
    "#     save_prefix=\"augmented\", \n",
    "#     save_format=\"png\")\n",
    "\n",
    "# for i in range(10):\n",
    "#     train_generator.next()"
   ]
  },
  {
   "cell_type": "code",
   "execution_count": 6,
   "id": "ec7ffab8-3d00-44fa-b09d-c7c9fafeca0a",
   "metadata": {},
   "outputs": [
    {
     "name": "stdout",
     "output_type": "stream",
     "text": [
      "[INFO] Dividir el conjunto de datos en datos de entrenamiento y datos de prueba...\n"
     ]
    }
   ],
   "source": [
    "print(\"[INFO] Dividir el conjunto de datos en datos de entrenamiento y datos de prueba...\")\n",
    "x_train, x_test, y_train, y_test = train_test_split(np_image_list, image_labels, test_size=0.2, random_state=45)"
   ]
  },
  {
   "cell_type": "code",
   "execution_count": 7,
   "id": "5a5b3096-ac42-4ba3-8b66-89bb32c71ff2",
   "metadata": {},
   "outputs": [],
   "source": [
    "# Establecer parámetros para el modelo\n",
    "EPOCHS = 20\n",
    "STEPS = 100\n",
    "LR = 1e-3\n",
    "BATCH_SIZE = 16  # Cantidad de muestra por cada época\n",
    "WIDTH = 256\n",
    "HEIGHT = 256\n",
    "DEPTH = 3"
   ]
  },
  {
   "cell_type": "markdown",
   "id": "3d6376af",
   "metadata": {
    "tags": []
   },
   "source": [
    "## 7. CREAR ARQUITECTURA\n",
    "-----"
   ]
  },
  {
   "cell_type": "code",
   "execution_count": 9,
   "id": "51cb957b-4691-4827-a424-1f3c80389489",
   "metadata": {},
   "outputs": [
    {
     "name": "stdout",
     "output_type": "stream",
     "text": [
      "Model: \"sequential_1\"\n",
      "_________________________________________________________________\n",
      " Layer (type)                Output Shape              Param #   \n",
      "=================================================================\n",
      " conv2d_5 (Conv2D)           (None, 256, 256, 32)      896       \n",
      "                                                                 \n",
      " activation_7 (Activation)   (None, 256, 256, 32)      0         \n",
      "                                                                 \n",
      " batch_normalization_6 (Batc  (None, 256, 256, 32)     128       \n",
      " hNormalization)                                                 \n",
      "                                                                 \n",
      " max_pooling2d_3 (MaxPooling  (None, 85, 85, 32)       0         \n",
      " 2D)                                                             \n",
      "                                                                 \n",
      " dropout_4 (Dropout)         (None, 85, 85, 32)        0         \n",
      "                                                                 \n",
      " conv2d_6 (Conv2D)           (None, 85, 85, 64)        18496     \n",
      "                                                                 \n",
      " activation_8 (Activation)   (None, 85, 85, 64)        0         \n",
      "                                                                 \n",
      " batch_normalization_7 (Batc  (None, 85, 85, 64)       256       \n",
      " hNormalization)                                                 \n",
      "                                                                 \n",
      " conv2d_7 (Conv2D)           (None, 85, 85, 64)        36928     \n",
      "                                                                 \n",
      " activation_9 (Activation)   (None, 85, 85, 64)        0         \n",
      "                                                                 \n",
      " batch_normalization_8 (Batc  (None, 85, 85, 64)       256       \n",
      " hNormalization)                                                 \n",
      "                                                                 \n",
      " max_pooling2d_4 (MaxPooling  (None, 42, 42, 64)       0         \n",
      " 2D)                                                             \n",
      "                                                                 \n",
      " dropout_5 (Dropout)         (None, 42, 42, 64)        0         \n",
      "                                                                 \n",
      " conv2d_8 (Conv2D)           (None, 42, 42, 128)       73856     \n",
      "                                                                 \n",
      " activation_10 (Activation)  (None, 42, 42, 128)       0         \n",
      "                                                                 \n",
      " batch_normalization_9 (Batc  (None, 42, 42, 128)      512       \n",
      " hNormalization)                                                 \n",
      "                                                                 \n",
      " conv2d_9 (Conv2D)           (None, 42, 42, 128)       147584    \n",
      "                                                                 \n",
      " activation_11 (Activation)  (None, 42, 42, 128)       0         \n",
      "                                                                 \n",
      " batch_normalization_10 (Bat  (None, 42, 42, 128)      512       \n",
      " chNormalization)                                                \n",
      "                                                                 \n",
      " max_pooling2d_5 (MaxPooling  (None, 21, 21, 128)      0         \n",
      " 2D)                                                             \n",
      "                                                                 \n",
      " dropout_6 (Dropout)         (None, 21, 21, 128)       0         \n",
      "                                                                 \n",
      " flatten_1 (Flatten)         (None, 56448)             0         \n",
      "                                                                 \n",
      " dense_2 (Dense)             (None, 1024)              57803776  \n",
      "                                                                 \n",
      " activation_12 (Activation)  (None, 1024)              0         \n",
      "                                                                 \n",
      " batch_normalization_11 (Bat  (None, 1024)             4096      \n",
      " chNormalization)                                                \n",
      "                                                                 \n",
      " dropout_7 (Dropout)         (None, 1024)              0         \n",
      "                                                                 \n",
      " dense_3 (Dense)             (None, 3)                 3075      \n",
      "                                                                 \n",
      " activation_13 (Activation)  (None, 3)                 0         \n",
      "                                                                 \n",
      "=================================================================\n",
      "Total params: 58,090,371\n",
      "Trainable params: 58,087,491\n",
      "Non-trainable params: 2,880\n",
      "_________________________________________________________________\n"
     ]
    }
   ],
   "source": [
    "model = Sequential()\n",
    "inputShape = (HEIGHT, WIDTH, DEPTH)\n",
    "chanDim = -1\n",
    "\n",
    "model.add(Conv2D(32, (3, 3), padding=\"same\",input_shape=inputShape))\n",
    "model.add(Activation(\"relu\"))\n",
    "model.add(BatchNormalization(axis=chanDim))\n",
    "model.add(MaxPooling2D(pool_size=(3, 3)))\n",
    "model.add(Dropout(0.25))\n",
    "\n",
    "model.add(Conv2D(64, (3, 3), padding=\"same\"))\n",
    "model.add(Activation(\"relu\"))\n",
    "model.add(BatchNormalization(axis=chanDim))\n",
    "\n",
    "model.add(Conv2D(64, (3, 3), padding=\"same\"))\n",
    "model.add(Activation(\"relu\"))\n",
    "model.add(BatchNormalization(axis=chanDim))\n",
    "model.add(MaxPooling2D(pool_size=(2, 2)))\n",
    "model.add(Dropout(0.25))\n",
    "\n",
    "model.add(Conv2D(128, (3, 3), padding=\"same\"))\n",
    "model.add(Activation(\"relu\"))\n",
    "model.add(BatchNormalization(axis=chanDim))\n",
    "\n",
    "model.add(Conv2D(128, (3, 3), padding=\"same\"))\n",
    "model.add(Activation(\"relu\"))\n",
    "model.add(BatchNormalization(axis=chanDim))\n",
    "model.add(MaxPooling2D(pool_size=(2, 2)))\n",
    "model.add(Dropout(0.25))\n",
    "model.add(Flatten())\n",
    "model.add(Dense(1024))\n",
    "model.add(Activation(\"relu\"))\n",
    "model.add(BatchNormalization())\n",
    "model.add(Dropout(0.5))\n",
    "model.add(Dense(n_classes))\n",
    "model.add(Activation(\"softmax\"))\n",
    "\n",
    "# Comprobar arquitectura\n",
    "model.summary()"
   ]
  },
  {
   "cell_type": "markdown",
   "id": "682ab70a-9385-4ff8-9cbf-ec9ce64024e6",
   "metadata": {
    "tags": []
   },
   "source": [
    "## 8. Entrenamiento del modelo\n",
    "-----"
   ]
  },
  {
   "cell_type": "code",
   "execution_count": 10,
   "id": "23825815-5d7c-4b97-a23f-50c3978f1711",
   "metadata": {},
   "outputs": [
    {
     "name": "stdout",
     "output_type": "stream",
     "text": [
      "[INFO] Entrenando al modelo...\n",
      "Epoch 1/20\n",
      "14/14 [==============================] - 64s 5s/step - loss: 0.8394 - accuracy: 0.6562 - precision: 0.6682 - recall: 0.6295 - f1_metric: 0.6469 - val_loss: 0.9259 - val_accuracy: 0.4912 - val_precision: 0.4912 - val_recall: 0.4912 - val_f1_metric: 0.5104\n",
      "Epoch 2/20\n",
      "14/14 [==============================] - 38s 3s/step - loss: 0.4083 - accuracy: 0.8393 - precision: 0.8486 - recall: 0.8259 - f1_metric: 0.8368 - val_loss: 2.4355 - val_accuracy: 0.4912 - val_precision: 0.4912 - val_recall: 0.4912 - val_f1_metric: 0.5104\n",
      "Epoch 3/20\n",
      "14/14 [==============================] - 34s 2s/step - loss: 0.3812 - accuracy: 0.8661 - precision: 0.8670 - recall: 0.8438 - f1_metric: 0.8553 - val_loss: 3.8344 - val_accuracy: 0.4912 - val_precision: 0.4912 - val_recall: 0.4912 - val_f1_metric: 0.5104\n",
      "Epoch 4/20\n",
      "14/14 [==============================] - 34s 2s/step - loss: 0.2900 - accuracy: 0.8929 - precision: 0.9045 - recall: 0.8884 - f1_metric: 0.8963 - val_loss: 2.0390 - val_accuracy: 0.4912 - val_precision: 0.4912 - val_recall: 0.4912 - val_f1_metric: 0.5104\n",
      "Epoch 5/20\n",
      "14/14 [==============================] - 30s 2s/step - loss: 0.1732 - accuracy: 0.9598 - precision: 0.9640 - recall: 0.9554 - f1_metric: 0.9597 - val_loss: 2.4738 - val_accuracy: 0.4912 - val_precision: 0.4912 - val_recall: 0.4912 - val_f1_metric: 0.5104\n",
      "Epoch 6/20\n",
      "14/14 [==============================] - 30s 2s/step - loss: 0.1332 - accuracy: 0.9777 - precision: 0.9776 - recall: 0.9732 - f1_metric: 0.9754 - val_loss: 1.6997 - val_accuracy: 0.4912 - val_precision: 0.4912 - val_recall: 0.4912 - val_f1_metric: 0.5104\n",
      "Epoch 7/20\n",
      "14/14 [==============================] - 32s 2s/step - loss: 0.1409 - accuracy: 0.9598 - precision: 0.9596 - recall: 0.9554 - f1_metric: 0.9575 - val_loss: 1.9584 - val_accuracy: 0.4912 - val_precision: 0.4912 - val_recall: 0.4912 - val_f1_metric: 0.5104\n",
      "Epoch 8/20\n",
      "14/14 [==============================] - 35s 3s/step - loss: 0.2171 - accuracy: 0.9107 - precision: 0.9189 - recall: 0.9107 - f1_metric: 0.9147 - val_loss: 1.9052 - val_accuracy: 0.4912 - val_precision: 0.4912 - val_recall: 0.4912 - val_f1_metric: 0.5104\n",
      "Epoch 9/20\n",
      "14/14 [==============================] - 32s 2s/step - loss: 0.1484 - accuracy: 0.9330 - precision: 0.9327 - recall: 0.9286 - f1_metric: 0.9306 - val_loss: 1.2784 - val_accuracy: 0.5088 - val_precision: 0.5088 - val_recall: 0.5088 - val_f1_metric: 0.5260\n",
      "Epoch 10/20\n",
      "14/14 [==============================] - 48s 3s/step - loss: 0.1925 - accuracy: 0.9241 - precision: 0.9279 - recall: 0.9196 - f1_metric: 0.9235 - val_loss: 0.5109 - val_accuracy: 0.6842 - val_precision: 0.6842 - val_recall: 0.6842 - val_f1_metric: 0.6823\n",
      "Epoch 11/20\n",
      "14/14 [==============================] - 36s 3s/step - loss: 0.0862 - accuracy: 0.9821 - precision: 0.9821 - recall: 0.9821 - f1_metric: 0.9821 - val_loss: 0.3627 - val_accuracy: 0.7544 - val_precision: 0.7544 - val_recall: 0.7544 - val_f1_metric: 0.7569\n",
      "Epoch 12/20\n",
      "14/14 [==============================] - 38s 3s/step - loss: 0.0927 - accuracy: 0.9732 - precision: 0.9730 - recall: 0.9643 - f1_metric: 0.9683 - val_loss: 0.8238 - val_accuracy: 0.5614 - val_precision: 0.5614 - val_recall: 0.5614 - val_f1_metric: 0.5729\n",
      "Epoch 13/20\n",
      "14/14 [==============================] - 41s 3s/step - loss: 0.0976 - accuracy: 0.9598 - precision: 0.9598 - recall: 0.9598 - f1_metric: 0.9598 - val_loss: 1.6721 - val_accuracy: 0.5263 - val_precision: 0.5263 - val_recall: 0.5263 - val_f1_metric: 0.5417\n",
      "Epoch 14/20\n",
      "14/14 [==============================] - 49s 4s/step - loss: 0.0667 - accuracy: 0.9821 - precision: 0.9821 - recall: 0.9777 - f1_metric: 0.9798 - val_loss: 2.7483 - val_accuracy: 0.4912 - val_precision: 0.4912 - val_recall: 0.4912 - val_f1_metric: 0.5104\n",
      "Epoch 15/20\n",
      "14/14 [==============================] - 46s 3s/step - loss: 0.0872 - accuracy: 0.9821 - precision: 0.9821 - recall: 0.9821 - f1_metric: 0.9821 - val_loss: 2.6836 - val_accuracy: 0.4912 - val_precision: 0.4912 - val_recall: 0.4912 - val_f1_metric: 0.5104\n",
      "Epoch 16/20\n",
      "14/14 [==============================] - 40s 3s/step - loss: 0.0641 - accuracy: 0.9777 - precision: 0.9777 - recall: 0.9777 - f1_metric: 0.9777 - val_loss: 3.0585 - val_accuracy: 0.4912 - val_precision: 0.4912 - val_recall: 0.4912 - val_f1_metric: 0.5104\n",
      "Epoch 17/20\n",
      "14/14 [==============================] - 47s 3s/step - loss: 0.0695 - accuracy: 0.9643 - precision: 0.9643 - recall: 0.9643 - f1_metric: 0.9643 - val_loss: 3.1772 - val_accuracy: 0.4912 - val_precision: 0.4912 - val_recall: 0.4912 - val_f1_metric: 0.5104\n",
      "Epoch 18/20\n",
      "14/14 [==============================] - 35s 3s/step - loss: 0.0619 - accuracy: 0.9777 - precision: 0.9777 - recall: 0.9777 - f1_metric: 0.9777 - val_loss: 3.5813 - val_accuracy: 0.4912 - val_precision: 0.4912 - val_recall: 0.4912 - val_f1_metric: 0.5104\n",
      "Epoch 19/20\n",
      "14/14 [==============================] - 73s 5s/step - loss: 0.0393 - accuracy: 0.9821 - precision: 0.9821 - recall: 0.9821 - f1_metric: 0.9821 - val_loss: 3.1866 - val_accuracy: 0.4912 - val_precision: 0.4912 - val_recall: 0.4912 - val_f1_metric: 0.5104\n",
      "Epoch 20/20\n",
      "14/14 [==============================] - 76s 5s/step - loss: 0.0331 - accuracy: 0.9866 - precision: 0.9866 - recall: 0.9866 - f1_metric: 0.9866 - val_loss: 2.9393 - val_accuracy: 0.4912 - val_precision: 0.4912 - val_recall: 0.4912 - val_f1_metric: 0.5104\n"
     ]
    }
   ],
   "source": [
    "import keras.backend as K\n",
    "\n",
    "def f1_metric(y_true, y_pred):\n",
    "    true_positives = K.sum(K.round(K.clip(y_true * y_pred, 0, 1)))\n",
    "    possible_positives = K.sum(K.round(K.clip(y_true, 0, 1)))\n",
    "    predicted_positives = K.sum(K.round(K.clip(y_pred, 0, 1)))\n",
    "    precision = true_positives / (predicted_positives + K.epsilon())\n",
    "    recall = true_positives / (possible_positives + K.epsilon())\n",
    "    f1_val = 2*(precision*recall)/(precision+recall+K.epsilon())\n",
    "    return f1_val\n",
    "\n",
    "# Activar el optimizador\n",
    "opt = Adam(learning_rate=LR, decay=LR/EPOCHS)\n",
    "\n",
    "# Compilar el modelo\n",
    "model.compile(loss=\"binary_crossentropy\", optimizer=opt, metrics=[\"accuracy\", tf.keras.metrics.Precision(), tf.keras.metrics.Recall(), f1_metric])\n",
    "\n",
    "# Entrenar el modelo\n",
    "print(\"[INFO] Entrenando al modelo...\")\n",
    "history = model.fit(x_train, y_train, batch_size=BATCH_SIZE,\n",
    "                    validation_data=(x_test, y_test),\n",
    "                    steps_per_epoch=len(x_train) // BATCH_SIZE,\n",
    "                    epochs=EPOCHS, verbose=1)"
   ]
  },
  {
   "cell_type": "markdown",
   "id": "4fc5b32f-f3e9-47a3-bb8e-c23151807930",
   "metadata": {
    "tags": []
   },
   "source": [
    "## 9. Análisis de métricas de rendimiento\n",
    "-----"
   ]
  },
  {
   "cell_type": "code",
   "execution_count": 11,
   "id": "aed5db38-9a02-422b-be42-9e46ed4d1a79",
   "metadata": {},
   "outputs": [
    {
     "data": {
      "image/png": "[encoded data removed]",
      "text/plain": [
       "<Figure size 432x288 with 1 Axes>"
      ]
     },
     "metadata": {
      "needs_background": "light"
     },
     "output_type": "display_data"
    },
    {
     "data": {
      "image/png": "[encoded data removed]",
      "text/plain": [
       "<Figure size 432x288 with 1 Axes>"
      ]
     },
     "metadata": {
      "needs_background": "light"
     },
     "output_type": "display_data"
    },
    {
     "data": {
      "image/png": "[encoded data removed]",
      "text/plain": [
       "<Figure size 432x288 with 1 Axes>"
      ]
     },
     "metadata": {
      "needs_background": "light"
     },
     "output_type": "display_data"
    },
    {
     "data": {
      "image/png": "[encoded data removed]",
      "text/plain": [
       "<Figure size 432x288 with 1 Axes>"
      ]
     },
     "metadata": {
      "needs_background": "light"
     },
     "output_type": "display_data"
    },
    {
     "data": {
      "image/png": "[encoded data removed]",
      "text/plain": [
       "<Figure size 432x288 with 1 Axes>"
      ]
     },
     "metadata": {
      "needs_background": "light"
     },
     "output_type": "display_data"
    }
   ],
   "source": [
    "loss = history.history['loss']\n",
    "val_loss = history.history['val_loss']\n",
    "\n",
    "acc = history.history['accuracy']\n",
    "val_acc = history.history['val_accuracy']\n",
    "\n",
    "prec = history.history['precision']\n",
    "val_prec = history.history['val_precision']\n",
    "\n",
    "recall_1 = history.history['recall']\n",
    "val_recall = history.history['val_recall']\n",
    "\n",
    "f1 = history.history['f1_metric']\n",
    "val_f1 = history.history['val_f1_metric']\n",
    "\n",
    "epochs = range(1, len(acc) + 1)\n",
    "\n",
    "# Pérdida de datos de entrenamiento y datos de prueba\n",
    "plt.plot(epochs, loss, 'b', label='Training loss')\n",
    "plt.plot(epochs, val_loss, 'r', label='Validation loss')\n",
    "plt.title('Training and Validation loss')\n",
    "plt.legend()\n",
    "\n",
    "plt.figure()\n",
    "\n",
    "# Accuracy de los datos de entrenamiento y datos de prueba\n",
    "plt.plot(epochs, acc, 'b', label='Training accuracy')\n",
    "plt.plot(epochs, val_acc, 'r', label='Validation accuracy')\n",
    "plt.title('Training and Validation accuracy')\n",
    "plt.legend()\n",
    "\n",
    "plt.figure()\n",
    "\n",
    "# Precisión de los datos de entrenamiento y datos de prueba\n",
    "plt.plot(epochs, prec, 'b', label='Training precision')\n",
    "plt.plot(epochs, val_prec, 'r', label='Validation precision')\n",
    "plt.title('Training and Validation precision')\n",
    "plt.legend()\n",
    "\n",
    "plt.figure()\n",
    "\n",
    "# Recall de los datos de entrenamiento y datos de prueba\n",
    "plt.plot(epochs, recall_1, 'b', label='Training recall')\n",
    "plt.plot(epochs, val_recall, 'r', label='Validation recall')\n",
    "plt.title('Training and Validation recall')\n",
    "plt.legend()\n",
    "\n",
    "plt.figure()\n",
    "\n",
    "# F1 de los datos de entrenamiento y datos de prueba\n",
    "plt.plot(epochs, f1, 'b', label='Training f1')\n",
    "plt.plot(epochs, val_f1, 'r', label='Validation f1')\n",
    "plt.title('Training and Validation f1')\n",
    "plt.legend()\n",
    "\n",
    "plt.show()\n"
   ]
  },
  {
   "cell_type": "markdown",
   "id": "cc4d2c75-7396-4945-aa3d-cccd850af6ae",
   "metadata": {
    "tags": []
   },
   "source": [
    "## 10. Evaluación de modelo\n",
    "-----"
   ]
  },
  {
   "cell_type": "code",
   "execution_count": 12,
   "id": "d0a6c5f7-301e-4af7-8866-4ea29f7a78ac",
   "metadata": {},
   "outputs": [
    {
     "name": "stdout",
     "output_type": "stream",
     "text": [
      "[INFO] Calcular la precisión del modelo....\n",
      "2/2 [==============================] - 2s 817ms/step - loss: 2.9393 - accuracy: 0.4912 - precision: 0.4912 - recall: 0.4912 - f1_metric: 0.4944\n",
      "Exactitud de la prueba: 49.12280738353729\n"
     ]
    }
   ],
   "source": [
    "print(\"[INFO] Calcular la precisión del modelo....\")\n",
    "scores = model.evaluate(x_test, y_test)\n",
    "print(f\"Exactitud de la prueba: {scores[1]*100}\")"
   ]
  },
  {
   "cell_type": "markdown",
   "id": "eff7ad17-9448-419a-8f88-7ebd6536cf5d",
   "metadata": {
    "tags": []
   },
   "source": [
    "## 11. Guardar modelo\n",
    "-----"
   ]
  },
  {
   "cell_type": "code",
   "execution_count": 14,
   "id": "9b2ec1e8-81ee-40ad-bb01-c1ad87daf953",
   "metadata": {},
   "outputs": [
    {
     "name": "stdout",
     "output_type": "stream",
     "text": [
      "[INFO] Guardar modelo...\n"
     ]
    }
   ],
   "source": [
    "# Guardar modelo\n",
    "print(\"[INFO] Guardar modelo...\")\n",
    "model.save('model.h5')"
   ]
  },
  {
   "cell_type": "markdown",
   "id": "d845f759-63ae-4367-b8dc-8580308e2e6a",
   "metadata": {
    "tags": []
   },
   "source": [
    "## 12. Realizar predicción\n",
    "-----"
   ]
  },
  {
   "cell_type": "code",
   "execution_count": 18,
   "id": "2d8b0e2a-9e52-4344-b276-e0d249749360",
   "metadata": {},
   "outputs": [
    {
     "name": "stdout",
     "output_type": "stream",
     "text": [
      "1/1 [==============================] - 0s 158ms/step\n",
      "sana\n"
     ]
    }
   ],
   "source": [
    "model = tf.keras.models.load_model('model.h5', compile=False)\n",
    "model.compile(optimizer=opt, loss='categorical_crossentropy', metrics=['accuracy' ,tf.keras.metrics.Precision(), tf.keras.metrics.Recall()])\n",
    "\n",
    "imgpath='Fotos/sana/augmented_49_622492.jpeg'\n",
    "#imgpath='Fotos/noSana/augmented_1_2094079.jpeg'\n",
    "\n",
    "imar = convert_image_to_array(imgpath)\n",
    "np_image_list = np.array([imar], dtype=np.float16) / 225.0\n",
    "\n",
    "predicted_classes = model.predict(np_image_list)\n",
    "\n",
    "for i, img_tagged in enumerate(predicted_classes):\n",
    "    print(label_binarizer.classes_[img_tagged.tolist().index(max(img_tagged))])"
   ]
  }
 ],
 "metadata": {
  "kernelspec": {
   "display_name": "Python 3 (ipykernel)",
   "language": "python",
   "name": "python3"
  },
  "language_info": {
   "codemirror_mode": {
    "name": "ipython",
    "version": 3
   },
   "file_extension": ".py",
   "mimetype": "text/x-python",
   "name": "python",
   "nbconvert_exporter": "python",
   "pygments_lexer": "ipython3",
   "version": "3.9.12"
  }
 },
 "nbformat": 4,
 "nbformat_minor": 5
}
